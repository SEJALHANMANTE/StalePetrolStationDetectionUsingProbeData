{
 "cells": [
  {
   "cell_type": "code",
   "execution_count": 50,
   "metadata": {},
   "outputs": [],
   "source": [
    "import numpy as np\n",
    "import pandas as pd"
   ]
  },
  {
   "cell_type": "code",
   "execution_count": 51,
   "metadata": {},
   "outputs": [
    {
     "data": {
      "text/html": [
       "<div>\n",
       "<style scoped>\n",
       "    .dataframe tbody tr th:only-of-type {\n",
       "        vertical-align: middle;\n",
       "    }\n",
       "\n",
       "    .dataframe tbody tr th {\n",
       "        vertical-align: top;\n",
       "    }\n",
       "\n",
       "    .dataframe thead th {\n",
       "        text-align: right;\n",
       "    }\n",
       "</style>\n",
       "<table border=\"1\" class=\"dataframe\">\n",
       "  <thead>\n",
       "    <tr style=\"text-align: right;\">\n",
       "      <th></th>\n",
       "      <th>WEIGHT</th>\n",
       "      <th>DIS2NT</th>\n",
       "      <th>geometry</th>\n",
       "      <th>placeid</th>\n",
       "      <th>name_left</th>\n",
       "      <th>displaylat</th>\n",
       "      <th>displaylon</th>\n",
       "      <th>distance_to_station</th>\n",
       "      <th>index_right</th>\n",
       "      <th>osm_id</th>\n",
       "      <th>code</th>\n",
       "      <th>fclass</th>\n",
       "      <th>name_right</th>\n",
       "      <th>ref</th>\n",
       "      <th>oneway</th>\n",
       "      <th>maxspeed</th>\n",
       "      <th>layer</th>\n",
       "      <th>bridge</th>\n",
       "      <th>tunnel</th>\n",
       "      <th>distance_to_road</th>\n",
       "    </tr>\n",
       "  </thead>\n",
       "  <tbody>\n",
       "    <tr>\n",
       "      <th>0</th>\n",
       "      <td>1</td>\n",
       "      <td>31</td>\n",
       "      <td>POINT (106.852782 -6.343371)</td>\n",
       "      <td>71</td>\n",
       "      <td>Warung Bang Jamin</td>\n",
       "      <td>-6.344676</td>\n",
       "      <td>106.848766</td>\n",
       "      <td>0.004223</td>\n",
       "      <td>99831</td>\n",
       "      <td>563177706</td>\n",
       "      <td>5122</td>\n",
       "      <td>residential</td>\n",
       "      <td>NaN</td>\n",
       "      <td>NaN</td>\n",
       "      <td>B</td>\n",
       "      <td>0</td>\n",
       "      <td>0</td>\n",
       "      <td>F</td>\n",
       "      <td>F</td>\n",
       "      <td>0.000025</td>\n",
       "    </tr>\n",
       "    <tr>\n",
       "      <th>1</th>\n",
       "      <td>1</td>\n",
       "      <td>172</td>\n",
       "      <td>POINT (106.8527533 -6.3446933)</td>\n",
       "      <td>71</td>\n",
       "      <td>Warung Bang Jamin</td>\n",
       "      <td>-6.344676</td>\n",
       "      <td>106.848766</td>\n",
       "      <td>0.003987</td>\n",
       "      <td>99787</td>\n",
       "      <td>563177637</td>\n",
       "      <td>5123</td>\n",
       "      <td>living_street</td>\n",
       "      <td>NaN</td>\n",
       "      <td>NaN</td>\n",
       "      <td>B</td>\n",
       "      <td>0</td>\n",
       "      <td>0</td>\n",
       "      <td>F</td>\n",
       "      <td>F</td>\n",
       "      <td>0.000054</td>\n",
       "    </tr>\n",
       "    <tr>\n",
       "      <th>2</th>\n",
       "      <td>4</td>\n",
       "      <td>166</td>\n",
       "      <td>POINT (106.852758 -6.344825)</td>\n",
       "      <td>71</td>\n",
       "      <td>Warung Bang Jamin</td>\n",
       "      <td>-6.344676</td>\n",
       "      <td>106.848766</td>\n",
       "      <td>0.003995</td>\n",
       "      <td>99786</td>\n",
       "      <td>563177635</td>\n",
       "      <td>5123</td>\n",
       "      <td>living_street</td>\n",
       "      <td>NaN</td>\n",
       "      <td>NaN</td>\n",
       "      <td>B</td>\n",
       "      <td>0</td>\n",
       "      <td>0</td>\n",
       "      <td>F</td>\n",
       "      <td>F</td>\n",
       "      <td>0.000081</td>\n",
       "    </tr>\n",
       "    <tr>\n",
       "      <th>3</th>\n",
       "      <td>2</td>\n",
       "      <td>750</td>\n",
       "      <td>POINT (106.9783265 -6.1802855)</td>\n",
       "      <td>236</td>\n",
       "      <td>Dodo</td>\n",
       "      <td>-6.182198</td>\n",
       "      <td>106.982084</td>\n",
       "      <td>0.004216</td>\n",
       "      <td>31895</td>\n",
       "      <td>328292661</td>\n",
       "      <td>5122</td>\n",
       "      <td>residential</td>\n",
       "      <td>NaN</td>\n",
       "      <td>NaN</td>\n",
       "      <td>B</td>\n",
       "      <td>0</td>\n",
       "      <td>0</td>\n",
       "      <td>F</td>\n",
       "      <td>F</td>\n",
       "      <td>0.000027</td>\n",
       "    </tr>\n",
       "    <tr>\n",
       "      <th>4</th>\n",
       "      <td>1</td>\n",
       "      <td>9999</td>\n",
       "      <td>POINT (106.869432 -6.370574)</td>\n",
       "      <td>396</td>\n",
       "      <td>Pertamina</td>\n",
       "      <td>-6.373070</td>\n",
       "      <td>106.872050</td>\n",
       "      <td>0.003617</td>\n",
       "      <td>100405</td>\n",
       "      <td>563529764</td>\n",
       "      <td>5122</td>\n",
       "      <td>residential</td>\n",
       "      <td>NaN</td>\n",
       "      <td>NaN</td>\n",
       "      <td>B</td>\n",
       "      <td>0</td>\n",
       "      <td>0</td>\n",
       "      <td>F</td>\n",
       "      <td>F</td>\n",
       "      <td>0.000004</td>\n",
       "    </tr>\n",
       "    <tr>\n",
       "      <th>...</th>\n",
       "      <td>...</td>\n",
       "      <td>...</td>\n",
       "      <td>...</td>\n",
       "      <td>...</td>\n",
       "      <td>...</td>\n",
       "      <td>...</td>\n",
       "      <td>...</td>\n",
       "      <td>...</td>\n",
       "      <td>...</td>\n",
       "      <td>...</td>\n",
       "      <td>...</td>\n",
       "      <td>...</td>\n",
       "      <td>...</td>\n",
       "      <td>...</td>\n",
       "      <td>...</td>\n",
       "      <td>...</td>\n",
       "      <td>...</td>\n",
       "      <td>...</td>\n",
       "      <td>...</td>\n",
       "      <td>...</td>\n",
       "    </tr>\n",
       "    <tr>\n",
       "      <th>466335</th>\n",
       "      <td>175</td>\n",
       "      <td>1</td>\n",
       "      <td>POINT (106.916981106 -6.14978758343)</td>\n",
       "      <td>516</td>\n",
       "      <td>Pertamina</td>\n",
       "      <td>-6.148502</td>\n",
       "      <td>106.916765</td>\n",
       "      <td>0.001304</td>\n",
       "      <td>89480</td>\n",
       "      <td>525578443</td>\n",
       "      <td>5122</td>\n",
       "      <td>residential</td>\n",
       "      <td>Jalan Gang Masjid</td>\n",
       "      <td>NaN</td>\n",
       "      <td>B</td>\n",
       "      <td>0</td>\n",
       "      <td>0</td>\n",
       "      <td>F</td>\n",
       "      <td>F</td>\n",
       "      <td>0.000014</td>\n",
       "    </tr>\n",
       "    <tr>\n",
       "      <th>466336</th>\n",
       "      <td>9</td>\n",
       "      <td>1</td>\n",
       "      <td>POINT (106.822344889 -6.28755744444)</td>\n",
       "      <td>42</td>\n",
       "      <td>Pertamina</td>\n",
       "      <td>-6.290469</td>\n",
       "      <td>106.823484</td>\n",
       "      <td>0.003126</td>\n",
       "      <td>193789</td>\n",
       "      <td>721780742</td>\n",
       "      <td>5141</td>\n",
       "      <td>service</td>\n",
       "      <td>NaN</td>\n",
       "      <td>NaN</td>\n",
       "      <td>B</td>\n",
       "      <td>0</td>\n",
       "      <td>0</td>\n",
       "      <td>F</td>\n",
       "      <td>F</td>\n",
       "      <td>0.000009</td>\n",
       "    </tr>\n",
       "    <tr>\n",
       "      <th>466337</th>\n",
       "      <td>1</td>\n",
       "      <td>49</td>\n",
       "      <td>POINT (106.916862 -6.149337)</td>\n",
       "      <td>516</td>\n",
       "      <td>Pertamina</td>\n",
       "      <td>-6.148502</td>\n",
       "      <td>106.916765</td>\n",
       "      <td>0.000841</td>\n",
       "      <td>89480</td>\n",
       "      <td>525578443</td>\n",
       "      <td>5122</td>\n",
       "      <td>residential</td>\n",
       "      <td>Jalan Gang Masjid</td>\n",
       "      <td>NaN</td>\n",
       "      <td>B</td>\n",
       "      <td>0</td>\n",
       "      <td>0</td>\n",
       "      <td>F</td>\n",
       "      <td>F</td>\n",
       "      <td>0.000441</td>\n",
       "    </tr>\n",
       "    <tr>\n",
       "      <th>466338</th>\n",
       "      <td>1</td>\n",
       "      <td>97</td>\n",
       "      <td>POINT (106.890658 -6.285498)</td>\n",
       "      <td>379</td>\n",
       "      <td>Pertamina</td>\n",
       "      <td>-6.291337</td>\n",
       "      <td>106.888375</td>\n",
       "      <td>0.006269</td>\n",
       "      <td>150689</td>\n",
       "      <td>587982144</td>\n",
       "      <td>5122</td>\n",
       "      <td>residential</td>\n",
       "      <td>Jalan Permadi</td>\n",
       "      <td>NaN</td>\n",
       "      <td>B</td>\n",
       "      <td>0</td>\n",
       "      <td>0</td>\n",
       "      <td>F</td>\n",
       "      <td>F</td>\n",
       "      <td>0.000941</td>\n",
       "    </tr>\n",
       "    <tr>\n",
       "      <th>466339</th>\n",
       "      <td>681</td>\n",
       "      <td>4</td>\n",
       "      <td>POINT (106.916968764 -6.14871343818)</td>\n",
       "      <td>516</td>\n",
       "      <td>Pertamina</td>\n",
       "      <td>-6.148502</td>\n",
       "      <td>106.916765</td>\n",
       "      <td>0.000294</td>\n",
       "      <td>89484</td>\n",
       "      <td>525578447</td>\n",
       "      <td>5114</td>\n",
       "      <td>secondary</td>\n",
       "      <td>Jalan Raya Kelapa Hybrida</td>\n",
       "      <td>NaN</td>\n",
       "      <td>B</td>\n",
       "      <td>0</td>\n",
       "      <td>0</td>\n",
       "      <td>F</td>\n",
       "      <td>F</td>\n",
       "      <td>0.000066</td>\n",
       "    </tr>\n",
       "  </tbody>\n",
       "</table>\n",
       "<p>466340 rows × 20 columns</p>\n",
       "</div>"
      ],
      "text/plain": [
       "        WEIGHT  DIS2NT                              geometry  placeid  \\\n",
       "0            1      31          POINT (106.852782 -6.343371)       71   \n",
       "1            1     172        POINT (106.8527533 -6.3446933)       71   \n",
       "2            4     166          POINT (106.852758 -6.344825)       71   \n",
       "3            2     750        POINT (106.9783265 -6.1802855)      236   \n",
       "4            1    9999          POINT (106.869432 -6.370574)      396   \n",
       "...        ...     ...                                   ...      ...   \n",
       "466335     175       1  POINT (106.916981106 -6.14978758343)      516   \n",
       "466336       9       1  POINT (106.822344889 -6.28755744444)       42   \n",
       "466337       1      49          POINT (106.916862 -6.149337)      516   \n",
       "466338       1      97          POINT (106.890658 -6.285498)      379   \n",
       "466339     681       4  POINT (106.916968764 -6.14871343818)      516   \n",
       "\n",
       "                name_left  displaylat  displaylon  distance_to_station  \\\n",
       "0       Warung Bang Jamin   -6.344676  106.848766             0.004223   \n",
       "1       Warung Bang Jamin   -6.344676  106.848766             0.003987   \n",
       "2       Warung Bang Jamin   -6.344676  106.848766             0.003995   \n",
       "3                    Dodo   -6.182198  106.982084             0.004216   \n",
       "4               Pertamina   -6.373070  106.872050             0.003617   \n",
       "...                   ...         ...         ...                  ...   \n",
       "466335          Pertamina   -6.148502  106.916765             0.001304   \n",
       "466336          Pertamina   -6.290469  106.823484             0.003126   \n",
       "466337          Pertamina   -6.148502  106.916765             0.000841   \n",
       "466338          Pertamina   -6.291337  106.888375             0.006269   \n",
       "466339          Pertamina   -6.148502  106.916765             0.000294   \n",
       "\n",
       "        index_right     osm_id  code         fclass  \\\n",
       "0             99831  563177706  5122    residential   \n",
       "1             99787  563177637  5123  living_street   \n",
       "2             99786  563177635  5123  living_street   \n",
       "3             31895  328292661  5122    residential   \n",
       "4            100405  563529764  5122    residential   \n",
       "...             ...        ...   ...            ...   \n",
       "466335        89480  525578443  5122    residential   \n",
       "466336       193789  721780742  5141        service   \n",
       "466337        89480  525578443  5122    residential   \n",
       "466338       150689  587982144  5122    residential   \n",
       "466339        89484  525578447  5114      secondary   \n",
       "\n",
       "                       name_right  ref oneway  maxspeed  layer bridge tunnel  \\\n",
       "0                             NaN  NaN      B         0      0      F      F   \n",
       "1                             NaN  NaN      B         0      0      F      F   \n",
       "2                             NaN  NaN      B         0      0      F      F   \n",
       "3                             NaN  NaN      B         0      0      F      F   \n",
       "4                             NaN  NaN      B         0      0      F      F   \n",
       "...                           ...  ...    ...       ...    ...    ...    ...   \n",
       "466335          Jalan Gang Masjid  NaN      B         0      0      F      F   \n",
       "466336                        NaN  NaN      B         0      0      F      F   \n",
       "466337          Jalan Gang Masjid  NaN      B         0      0      F      F   \n",
       "466338              Jalan Permadi  NaN      B         0      0      F      F   \n",
       "466339  Jalan Raya Kelapa Hybrida  NaN      B         0      0      F      F   \n",
       "\n",
       "        distance_to_road  \n",
       "0               0.000025  \n",
       "1               0.000054  \n",
       "2               0.000081  \n",
       "3               0.000027  \n",
       "4               0.000004  \n",
       "...                  ...  \n",
       "466335          0.000014  \n",
       "466336          0.000009  \n",
       "466337          0.000441  \n",
       "466338          0.000941  \n",
       "466339          0.000066  \n",
       "\n",
       "[466340 rows x 20 columns]"
      ]
     },
     "execution_count": 51,
     "metadata": {},
     "output_type": "execute_result"
    }
   ],
   "source": [
    "merged_data = pd.read_csv(r\"C:\\Users\\Sejal Hanmante\\Downloads\\Data_for_hackathon\\Data_for_hackathon\\Stale_Petrol_station\\probes_with_stations_and_roads.csv\")\n",
    "merged_data "
   ]
  },
  {
   "cell_type": "code",
   "execution_count": 52,
   "metadata": {},
   "outputs": [
    {
     "name": "stdout",
     "output_type": "stream",
     "text": [
      "<class 'pandas.core.frame.DataFrame'>\n",
      "RangeIndex: 466340 entries, 0 to 466339\n",
      "Data columns (total 20 columns):\n",
      " #   Column               Non-Null Count   Dtype  \n",
      "---  ------               --------------   -----  \n",
      " 0   WEIGHT               466340 non-null  int64  \n",
      " 1   DIS2NT               466340 non-null  int64  \n",
      " 2   geometry             466340 non-null  object \n",
      " 3   placeid              466340 non-null  int64  \n",
      " 4   name_left            466340 non-null  object \n",
      " 5   displaylat           466340 non-null  float64\n",
      " 6   displaylon           466340 non-null  float64\n",
      " 7   distance_to_station  466340 non-null  float64\n",
      " 8   index_right          466340 non-null  int64  \n",
      " 9   osm_id               466340 non-null  int64  \n",
      " 10  code                 466340 non-null  int64  \n",
      " 11  fclass               466340 non-null  object \n",
      " 12  name_right           292520 non-null  object \n",
      " 13  ref                  14804 non-null   object \n",
      " 14  oneway               466340 non-null  object \n",
      " 15  maxspeed             466340 non-null  int64  \n",
      " 16  layer                466340 non-null  int64  \n",
      " 17  bridge               466340 non-null  object \n",
      " 18  tunnel               466340 non-null  object \n",
      " 19  distance_to_road     466340 non-null  float64\n",
      "dtypes: float64(4), int64(8), object(8)\n",
      "memory usage: 71.2+ MB\n"
     ]
    }
   ],
   "source": [
    "merged_data.info()"
   ]
  },
  {
   "cell_type": "code",
   "execution_count": 53,
   "metadata": {},
   "outputs": [
    {
     "data": {
      "text/html": [
       "<div>\n",
       "<style scoped>\n",
       "    .dataframe tbody tr th:only-of-type {\n",
       "        vertical-align: middle;\n",
       "    }\n",
       "\n",
       "    .dataframe tbody tr th {\n",
       "        vertical-align: top;\n",
       "    }\n",
       "\n",
       "    .dataframe thead th {\n",
       "        text-align: right;\n",
       "    }\n",
       "</style>\n",
       "<table border=\"1\" class=\"dataframe\">\n",
       "  <thead>\n",
       "    <tr style=\"text-align: right;\">\n",
       "      <th></th>\n",
       "      <th>WEIGHT</th>\n",
       "      <th>DIS2NT</th>\n",
       "      <th>geometry</th>\n",
       "      <th>placeid</th>\n",
       "      <th>name_left</th>\n",
       "      <th>displaylat</th>\n",
       "      <th>displaylon</th>\n",
       "      <th>distance_to_station</th>\n",
       "      <th>code</th>\n",
       "      <th>fclass</th>\n",
       "      <th>name_right</th>\n",
       "      <th>ref</th>\n",
       "      <th>oneway</th>\n",
       "      <th>maxspeed</th>\n",
       "      <th>layer</th>\n",
       "      <th>bridge</th>\n",
       "      <th>tunnel</th>\n",
       "      <th>distance_to_road</th>\n",
       "    </tr>\n",
       "  </thead>\n",
       "  <tbody>\n",
       "    <tr>\n",
       "      <th>0</th>\n",
       "      <td>1</td>\n",
       "      <td>31</td>\n",
       "      <td>POINT (106.852782 -6.343371)</td>\n",
       "      <td>71</td>\n",
       "      <td>Warung Bang Jamin</td>\n",
       "      <td>-6.344676</td>\n",
       "      <td>106.848766</td>\n",
       "      <td>0.004223</td>\n",
       "      <td>5122</td>\n",
       "      <td>residential</td>\n",
       "      <td>NaN</td>\n",
       "      <td>NaN</td>\n",
       "      <td>B</td>\n",
       "      <td>0</td>\n",
       "      <td>0</td>\n",
       "      <td>F</td>\n",
       "      <td>F</td>\n",
       "      <td>0.000025</td>\n",
       "    </tr>\n",
       "    <tr>\n",
       "      <th>1</th>\n",
       "      <td>1</td>\n",
       "      <td>172</td>\n",
       "      <td>POINT (106.8527533 -6.3446933)</td>\n",
       "      <td>71</td>\n",
       "      <td>Warung Bang Jamin</td>\n",
       "      <td>-6.344676</td>\n",
       "      <td>106.848766</td>\n",
       "      <td>0.003987</td>\n",
       "      <td>5123</td>\n",
       "      <td>living_street</td>\n",
       "      <td>NaN</td>\n",
       "      <td>NaN</td>\n",
       "      <td>B</td>\n",
       "      <td>0</td>\n",
       "      <td>0</td>\n",
       "      <td>F</td>\n",
       "      <td>F</td>\n",
       "      <td>0.000054</td>\n",
       "    </tr>\n",
       "    <tr>\n",
       "      <th>2</th>\n",
       "      <td>4</td>\n",
       "      <td>166</td>\n",
       "      <td>POINT (106.852758 -6.344825)</td>\n",
       "      <td>71</td>\n",
       "      <td>Warung Bang Jamin</td>\n",
       "      <td>-6.344676</td>\n",
       "      <td>106.848766</td>\n",
       "      <td>0.003995</td>\n",
       "      <td>5123</td>\n",
       "      <td>living_street</td>\n",
       "      <td>NaN</td>\n",
       "      <td>NaN</td>\n",
       "      <td>B</td>\n",
       "      <td>0</td>\n",
       "      <td>0</td>\n",
       "      <td>F</td>\n",
       "      <td>F</td>\n",
       "      <td>0.000081</td>\n",
       "    </tr>\n",
       "    <tr>\n",
       "      <th>3</th>\n",
       "      <td>2</td>\n",
       "      <td>750</td>\n",
       "      <td>POINT (106.9783265 -6.1802855)</td>\n",
       "      <td>236</td>\n",
       "      <td>Dodo</td>\n",
       "      <td>-6.182198</td>\n",
       "      <td>106.982084</td>\n",
       "      <td>0.004216</td>\n",
       "      <td>5122</td>\n",
       "      <td>residential</td>\n",
       "      <td>NaN</td>\n",
       "      <td>NaN</td>\n",
       "      <td>B</td>\n",
       "      <td>0</td>\n",
       "      <td>0</td>\n",
       "      <td>F</td>\n",
       "      <td>F</td>\n",
       "      <td>0.000027</td>\n",
       "    </tr>\n",
       "    <tr>\n",
       "      <th>4</th>\n",
       "      <td>1</td>\n",
       "      <td>9999</td>\n",
       "      <td>POINT (106.869432 -6.370574)</td>\n",
       "      <td>396</td>\n",
       "      <td>Pertamina</td>\n",
       "      <td>-6.373070</td>\n",
       "      <td>106.872050</td>\n",
       "      <td>0.003617</td>\n",
       "      <td>5122</td>\n",
       "      <td>residential</td>\n",
       "      <td>NaN</td>\n",
       "      <td>NaN</td>\n",
       "      <td>B</td>\n",
       "      <td>0</td>\n",
       "      <td>0</td>\n",
       "      <td>F</td>\n",
       "      <td>F</td>\n",
       "      <td>0.000004</td>\n",
       "    </tr>\n",
       "    <tr>\n",
       "      <th>...</th>\n",
       "      <td>...</td>\n",
       "      <td>...</td>\n",
       "      <td>...</td>\n",
       "      <td>...</td>\n",
       "      <td>...</td>\n",
       "      <td>...</td>\n",
       "      <td>...</td>\n",
       "      <td>...</td>\n",
       "      <td>...</td>\n",
       "      <td>...</td>\n",
       "      <td>...</td>\n",
       "      <td>...</td>\n",
       "      <td>...</td>\n",
       "      <td>...</td>\n",
       "      <td>...</td>\n",
       "      <td>...</td>\n",
       "      <td>...</td>\n",
       "      <td>...</td>\n",
       "    </tr>\n",
       "    <tr>\n",
       "      <th>466335</th>\n",
       "      <td>175</td>\n",
       "      <td>1</td>\n",
       "      <td>POINT (106.916981106 -6.14978758343)</td>\n",
       "      <td>516</td>\n",
       "      <td>Pertamina</td>\n",
       "      <td>-6.148502</td>\n",
       "      <td>106.916765</td>\n",
       "      <td>0.001304</td>\n",
       "      <td>5122</td>\n",
       "      <td>residential</td>\n",
       "      <td>Jalan Gang Masjid</td>\n",
       "      <td>NaN</td>\n",
       "      <td>B</td>\n",
       "      <td>0</td>\n",
       "      <td>0</td>\n",
       "      <td>F</td>\n",
       "      <td>F</td>\n",
       "      <td>0.000014</td>\n",
       "    </tr>\n",
       "    <tr>\n",
       "      <th>466336</th>\n",
       "      <td>9</td>\n",
       "      <td>1</td>\n",
       "      <td>POINT (106.822344889 -6.28755744444)</td>\n",
       "      <td>42</td>\n",
       "      <td>Pertamina</td>\n",
       "      <td>-6.290469</td>\n",
       "      <td>106.823484</td>\n",
       "      <td>0.003126</td>\n",
       "      <td>5141</td>\n",
       "      <td>service</td>\n",
       "      <td>NaN</td>\n",
       "      <td>NaN</td>\n",
       "      <td>B</td>\n",
       "      <td>0</td>\n",
       "      <td>0</td>\n",
       "      <td>F</td>\n",
       "      <td>F</td>\n",
       "      <td>0.000009</td>\n",
       "    </tr>\n",
       "    <tr>\n",
       "      <th>466337</th>\n",
       "      <td>1</td>\n",
       "      <td>49</td>\n",
       "      <td>POINT (106.916862 -6.149337)</td>\n",
       "      <td>516</td>\n",
       "      <td>Pertamina</td>\n",
       "      <td>-6.148502</td>\n",
       "      <td>106.916765</td>\n",
       "      <td>0.000841</td>\n",
       "      <td>5122</td>\n",
       "      <td>residential</td>\n",
       "      <td>Jalan Gang Masjid</td>\n",
       "      <td>NaN</td>\n",
       "      <td>B</td>\n",
       "      <td>0</td>\n",
       "      <td>0</td>\n",
       "      <td>F</td>\n",
       "      <td>F</td>\n",
       "      <td>0.000441</td>\n",
       "    </tr>\n",
       "    <tr>\n",
       "      <th>466338</th>\n",
       "      <td>1</td>\n",
       "      <td>97</td>\n",
       "      <td>POINT (106.890658 -6.285498)</td>\n",
       "      <td>379</td>\n",
       "      <td>Pertamina</td>\n",
       "      <td>-6.291337</td>\n",
       "      <td>106.888375</td>\n",
       "      <td>0.006269</td>\n",
       "      <td>5122</td>\n",
       "      <td>residential</td>\n",
       "      <td>Jalan Permadi</td>\n",
       "      <td>NaN</td>\n",
       "      <td>B</td>\n",
       "      <td>0</td>\n",
       "      <td>0</td>\n",
       "      <td>F</td>\n",
       "      <td>F</td>\n",
       "      <td>0.000941</td>\n",
       "    </tr>\n",
       "    <tr>\n",
       "      <th>466339</th>\n",
       "      <td>681</td>\n",
       "      <td>4</td>\n",
       "      <td>POINT (106.916968764 -6.14871343818)</td>\n",
       "      <td>516</td>\n",
       "      <td>Pertamina</td>\n",
       "      <td>-6.148502</td>\n",
       "      <td>106.916765</td>\n",
       "      <td>0.000294</td>\n",
       "      <td>5114</td>\n",
       "      <td>secondary</td>\n",
       "      <td>Jalan Raya Kelapa Hybrida</td>\n",
       "      <td>NaN</td>\n",
       "      <td>B</td>\n",
       "      <td>0</td>\n",
       "      <td>0</td>\n",
       "      <td>F</td>\n",
       "      <td>F</td>\n",
       "      <td>0.000066</td>\n",
       "    </tr>\n",
       "  </tbody>\n",
       "</table>\n",
       "<p>466340 rows × 18 columns</p>\n",
       "</div>"
      ],
      "text/plain": [
       "        WEIGHT  DIS2NT                              geometry  placeid  \\\n",
       "0            1      31          POINT (106.852782 -6.343371)       71   \n",
       "1            1     172        POINT (106.8527533 -6.3446933)       71   \n",
       "2            4     166          POINT (106.852758 -6.344825)       71   \n",
       "3            2     750        POINT (106.9783265 -6.1802855)      236   \n",
       "4            1    9999          POINT (106.869432 -6.370574)      396   \n",
       "...        ...     ...                                   ...      ...   \n",
       "466335     175       1  POINT (106.916981106 -6.14978758343)      516   \n",
       "466336       9       1  POINT (106.822344889 -6.28755744444)       42   \n",
       "466337       1      49          POINT (106.916862 -6.149337)      516   \n",
       "466338       1      97          POINT (106.890658 -6.285498)      379   \n",
       "466339     681       4  POINT (106.916968764 -6.14871343818)      516   \n",
       "\n",
       "                name_left  displaylat  displaylon  distance_to_station  code  \\\n",
       "0       Warung Bang Jamin   -6.344676  106.848766             0.004223  5122   \n",
       "1       Warung Bang Jamin   -6.344676  106.848766             0.003987  5123   \n",
       "2       Warung Bang Jamin   -6.344676  106.848766             0.003995  5123   \n",
       "3                    Dodo   -6.182198  106.982084             0.004216  5122   \n",
       "4               Pertamina   -6.373070  106.872050             0.003617  5122   \n",
       "...                   ...         ...         ...                  ...   ...   \n",
       "466335          Pertamina   -6.148502  106.916765             0.001304  5122   \n",
       "466336          Pertamina   -6.290469  106.823484             0.003126  5141   \n",
       "466337          Pertamina   -6.148502  106.916765             0.000841  5122   \n",
       "466338          Pertamina   -6.291337  106.888375             0.006269  5122   \n",
       "466339          Pertamina   -6.148502  106.916765             0.000294  5114   \n",
       "\n",
       "               fclass                 name_right  ref oneway  maxspeed  layer  \\\n",
       "0         residential                        NaN  NaN      B         0      0   \n",
       "1       living_street                        NaN  NaN      B         0      0   \n",
       "2       living_street                        NaN  NaN      B         0      0   \n",
       "3         residential                        NaN  NaN      B         0      0   \n",
       "4         residential                        NaN  NaN      B         0      0   \n",
       "...               ...                        ...  ...    ...       ...    ...   \n",
       "466335    residential          Jalan Gang Masjid  NaN      B         0      0   \n",
       "466336        service                        NaN  NaN      B         0      0   \n",
       "466337    residential          Jalan Gang Masjid  NaN      B         0      0   \n",
       "466338    residential              Jalan Permadi  NaN      B         0      0   \n",
       "466339      secondary  Jalan Raya Kelapa Hybrida  NaN      B         0      0   \n",
       "\n",
       "       bridge tunnel  distance_to_road  \n",
       "0           F      F          0.000025  \n",
       "1           F      F          0.000054  \n",
       "2           F      F          0.000081  \n",
       "3           F      F          0.000027  \n",
       "4           F      F          0.000004  \n",
       "...       ...    ...               ...  \n",
       "466335      F      F          0.000014  \n",
       "466336      F      F          0.000009  \n",
       "466337      F      F          0.000441  \n",
       "466338      F      F          0.000941  \n",
       "466339      F      F          0.000066  \n",
       "\n",
       "[466340 rows x 18 columns]"
      ]
     },
     "execution_count": 53,
     "metadata": {},
     "output_type": "execute_result"
    }
   ],
   "source": [
    "merged_data.drop([\"osm_id\",\"index_right\"],axis=1,inplace=True)\n",
    "merged_data "
   ]
  },
  {
   "cell_type": "code",
   "execution_count": 54,
   "metadata": {},
   "outputs": [],
   "source": [
    "merged_data.rename(columns={\"name_left\" : \"Petrol_pump_name\" , \"name_right\":\"road_name\"},inplace=True)"
   ]
  },
  {
   "cell_type": "code",
   "execution_count": 55,
   "metadata": {},
   "outputs": [
    {
     "data": {
      "text/html": [
       "<div>\n",
       "<style scoped>\n",
       "    .dataframe tbody tr th:only-of-type {\n",
       "        vertical-align: middle;\n",
       "    }\n",
       "\n",
       "    .dataframe tbody tr th {\n",
       "        vertical-align: top;\n",
       "    }\n",
       "\n",
       "    .dataframe thead th {\n",
       "        text-align: right;\n",
       "    }\n",
       "</style>\n",
       "<table border=\"1\" class=\"dataframe\">\n",
       "  <thead>\n",
       "    <tr style=\"text-align: right;\">\n",
       "      <th></th>\n",
       "      <th>WEIGHT</th>\n",
       "      <th>DIS2NT</th>\n",
       "      <th>geometry</th>\n",
       "      <th>placeid</th>\n",
       "      <th>Petrol_pump_name</th>\n",
       "      <th>displaylat</th>\n",
       "      <th>displaylon</th>\n",
       "      <th>distance_to_station</th>\n",
       "      <th>code</th>\n",
       "      <th>fclass</th>\n",
       "      <th>road_name</th>\n",
       "      <th>ref</th>\n",
       "      <th>oneway</th>\n",
       "      <th>maxspeed</th>\n",
       "      <th>layer</th>\n",
       "      <th>bridge</th>\n",
       "      <th>tunnel</th>\n",
       "      <th>distance_to_road</th>\n",
       "    </tr>\n",
       "  </thead>\n",
       "  <tbody>\n",
       "    <tr>\n",
       "      <th>0</th>\n",
       "      <td>1</td>\n",
       "      <td>31</td>\n",
       "      <td>POINT (106.852782 -6.343371)</td>\n",
       "      <td>71</td>\n",
       "      <td>Warung Bang Jamin</td>\n",
       "      <td>-6.344676</td>\n",
       "      <td>106.848766</td>\n",
       "      <td>0.004223</td>\n",
       "      <td>5122</td>\n",
       "      <td>residential</td>\n",
       "      <td>NaN</td>\n",
       "      <td>NaN</td>\n",
       "      <td>B</td>\n",
       "      <td>0</td>\n",
       "      <td>0</td>\n",
       "      <td>F</td>\n",
       "      <td>F</td>\n",
       "      <td>0.000025</td>\n",
       "    </tr>\n",
       "    <tr>\n",
       "      <th>1</th>\n",
       "      <td>1</td>\n",
       "      <td>172</td>\n",
       "      <td>POINT (106.8527533 -6.3446933)</td>\n",
       "      <td>71</td>\n",
       "      <td>Warung Bang Jamin</td>\n",
       "      <td>-6.344676</td>\n",
       "      <td>106.848766</td>\n",
       "      <td>0.003987</td>\n",
       "      <td>5123</td>\n",
       "      <td>living_street</td>\n",
       "      <td>NaN</td>\n",
       "      <td>NaN</td>\n",
       "      <td>B</td>\n",
       "      <td>0</td>\n",
       "      <td>0</td>\n",
       "      <td>F</td>\n",
       "      <td>F</td>\n",
       "      <td>0.000054</td>\n",
       "    </tr>\n",
       "    <tr>\n",
       "      <th>2</th>\n",
       "      <td>4</td>\n",
       "      <td>166</td>\n",
       "      <td>POINT (106.852758 -6.344825)</td>\n",
       "      <td>71</td>\n",
       "      <td>Warung Bang Jamin</td>\n",
       "      <td>-6.344676</td>\n",
       "      <td>106.848766</td>\n",
       "      <td>0.003995</td>\n",
       "      <td>5123</td>\n",
       "      <td>living_street</td>\n",
       "      <td>NaN</td>\n",
       "      <td>NaN</td>\n",
       "      <td>B</td>\n",
       "      <td>0</td>\n",
       "      <td>0</td>\n",
       "      <td>F</td>\n",
       "      <td>F</td>\n",
       "      <td>0.000081</td>\n",
       "    </tr>\n",
       "    <tr>\n",
       "      <th>3</th>\n",
       "      <td>2</td>\n",
       "      <td>750</td>\n",
       "      <td>POINT (106.9783265 -6.1802855)</td>\n",
       "      <td>236</td>\n",
       "      <td>Dodo</td>\n",
       "      <td>-6.182198</td>\n",
       "      <td>106.982084</td>\n",
       "      <td>0.004216</td>\n",
       "      <td>5122</td>\n",
       "      <td>residential</td>\n",
       "      <td>NaN</td>\n",
       "      <td>NaN</td>\n",
       "      <td>B</td>\n",
       "      <td>0</td>\n",
       "      <td>0</td>\n",
       "      <td>F</td>\n",
       "      <td>F</td>\n",
       "      <td>0.000027</td>\n",
       "    </tr>\n",
       "    <tr>\n",
       "      <th>4</th>\n",
       "      <td>1</td>\n",
       "      <td>9999</td>\n",
       "      <td>POINT (106.869432 -6.370574)</td>\n",
       "      <td>396</td>\n",
       "      <td>Pertamina</td>\n",
       "      <td>-6.373070</td>\n",
       "      <td>106.872050</td>\n",
       "      <td>0.003617</td>\n",
       "      <td>5122</td>\n",
       "      <td>residential</td>\n",
       "      <td>NaN</td>\n",
       "      <td>NaN</td>\n",
       "      <td>B</td>\n",
       "      <td>0</td>\n",
       "      <td>0</td>\n",
       "      <td>F</td>\n",
       "      <td>F</td>\n",
       "      <td>0.000004</td>\n",
       "    </tr>\n",
       "    <tr>\n",
       "      <th>...</th>\n",
       "      <td>...</td>\n",
       "      <td>...</td>\n",
       "      <td>...</td>\n",
       "      <td>...</td>\n",
       "      <td>...</td>\n",
       "      <td>...</td>\n",
       "      <td>...</td>\n",
       "      <td>...</td>\n",
       "      <td>...</td>\n",
       "      <td>...</td>\n",
       "      <td>...</td>\n",
       "      <td>...</td>\n",
       "      <td>...</td>\n",
       "      <td>...</td>\n",
       "      <td>...</td>\n",
       "      <td>...</td>\n",
       "      <td>...</td>\n",
       "      <td>...</td>\n",
       "    </tr>\n",
       "    <tr>\n",
       "      <th>466335</th>\n",
       "      <td>175</td>\n",
       "      <td>1</td>\n",
       "      <td>POINT (106.916981106 -6.14978758343)</td>\n",
       "      <td>516</td>\n",
       "      <td>Pertamina</td>\n",
       "      <td>-6.148502</td>\n",
       "      <td>106.916765</td>\n",
       "      <td>0.001304</td>\n",
       "      <td>5122</td>\n",
       "      <td>residential</td>\n",
       "      <td>Jalan Gang Masjid</td>\n",
       "      <td>NaN</td>\n",
       "      <td>B</td>\n",
       "      <td>0</td>\n",
       "      <td>0</td>\n",
       "      <td>F</td>\n",
       "      <td>F</td>\n",
       "      <td>0.000014</td>\n",
       "    </tr>\n",
       "    <tr>\n",
       "      <th>466336</th>\n",
       "      <td>9</td>\n",
       "      <td>1</td>\n",
       "      <td>POINT (106.822344889 -6.28755744444)</td>\n",
       "      <td>42</td>\n",
       "      <td>Pertamina</td>\n",
       "      <td>-6.290469</td>\n",
       "      <td>106.823484</td>\n",
       "      <td>0.003126</td>\n",
       "      <td>5141</td>\n",
       "      <td>service</td>\n",
       "      <td>NaN</td>\n",
       "      <td>NaN</td>\n",
       "      <td>B</td>\n",
       "      <td>0</td>\n",
       "      <td>0</td>\n",
       "      <td>F</td>\n",
       "      <td>F</td>\n",
       "      <td>0.000009</td>\n",
       "    </tr>\n",
       "    <tr>\n",
       "      <th>466337</th>\n",
       "      <td>1</td>\n",
       "      <td>49</td>\n",
       "      <td>POINT (106.916862 -6.149337)</td>\n",
       "      <td>516</td>\n",
       "      <td>Pertamina</td>\n",
       "      <td>-6.148502</td>\n",
       "      <td>106.916765</td>\n",
       "      <td>0.000841</td>\n",
       "      <td>5122</td>\n",
       "      <td>residential</td>\n",
       "      <td>Jalan Gang Masjid</td>\n",
       "      <td>NaN</td>\n",
       "      <td>B</td>\n",
       "      <td>0</td>\n",
       "      <td>0</td>\n",
       "      <td>F</td>\n",
       "      <td>F</td>\n",
       "      <td>0.000441</td>\n",
       "    </tr>\n",
       "    <tr>\n",
       "      <th>466338</th>\n",
       "      <td>1</td>\n",
       "      <td>97</td>\n",
       "      <td>POINT (106.890658 -6.285498)</td>\n",
       "      <td>379</td>\n",
       "      <td>Pertamina</td>\n",
       "      <td>-6.291337</td>\n",
       "      <td>106.888375</td>\n",
       "      <td>0.006269</td>\n",
       "      <td>5122</td>\n",
       "      <td>residential</td>\n",
       "      <td>Jalan Permadi</td>\n",
       "      <td>NaN</td>\n",
       "      <td>B</td>\n",
       "      <td>0</td>\n",
       "      <td>0</td>\n",
       "      <td>F</td>\n",
       "      <td>F</td>\n",
       "      <td>0.000941</td>\n",
       "    </tr>\n",
       "    <tr>\n",
       "      <th>466339</th>\n",
       "      <td>681</td>\n",
       "      <td>4</td>\n",
       "      <td>POINT (106.916968764 -6.14871343818)</td>\n",
       "      <td>516</td>\n",
       "      <td>Pertamina</td>\n",
       "      <td>-6.148502</td>\n",
       "      <td>106.916765</td>\n",
       "      <td>0.000294</td>\n",
       "      <td>5114</td>\n",
       "      <td>secondary</td>\n",
       "      <td>Jalan Raya Kelapa Hybrida</td>\n",
       "      <td>NaN</td>\n",
       "      <td>B</td>\n",
       "      <td>0</td>\n",
       "      <td>0</td>\n",
       "      <td>F</td>\n",
       "      <td>F</td>\n",
       "      <td>0.000066</td>\n",
       "    </tr>\n",
       "  </tbody>\n",
       "</table>\n",
       "<p>466340 rows × 18 columns</p>\n",
       "</div>"
      ],
      "text/plain": [
       "        WEIGHT  DIS2NT                              geometry  placeid  \\\n",
       "0            1      31          POINT (106.852782 -6.343371)       71   \n",
       "1            1     172        POINT (106.8527533 -6.3446933)       71   \n",
       "2            4     166          POINT (106.852758 -6.344825)       71   \n",
       "3            2     750        POINT (106.9783265 -6.1802855)      236   \n",
       "4            1    9999          POINT (106.869432 -6.370574)      396   \n",
       "...        ...     ...                                   ...      ...   \n",
       "466335     175       1  POINT (106.916981106 -6.14978758343)      516   \n",
       "466336       9       1  POINT (106.822344889 -6.28755744444)       42   \n",
       "466337       1      49          POINT (106.916862 -6.149337)      516   \n",
       "466338       1      97          POINT (106.890658 -6.285498)      379   \n",
       "466339     681       4  POINT (106.916968764 -6.14871343818)      516   \n",
       "\n",
       "         Petrol_pump_name  displaylat  displaylon  distance_to_station  code  \\\n",
       "0       Warung Bang Jamin   -6.344676  106.848766             0.004223  5122   \n",
       "1       Warung Bang Jamin   -6.344676  106.848766             0.003987  5123   \n",
       "2       Warung Bang Jamin   -6.344676  106.848766             0.003995  5123   \n",
       "3                    Dodo   -6.182198  106.982084             0.004216  5122   \n",
       "4               Pertamina   -6.373070  106.872050             0.003617  5122   \n",
       "...                   ...         ...         ...                  ...   ...   \n",
       "466335          Pertamina   -6.148502  106.916765             0.001304  5122   \n",
       "466336          Pertamina   -6.290469  106.823484             0.003126  5141   \n",
       "466337          Pertamina   -6.148502  106.916765             0.000841  5122   \n",
       "466338          Pertamina   -6.291337  106.888375             0.006269  5122   \n",
       "466339          Pertamina   -6.148502  106.916765             0.000294  5114   \n",
       "\n",
       "               fclass                  road_name  ref oneway  maxspeed  layer  \\\n",
       "0         residential                        NaN  NaN      B         0      0   \n",
       "1       living_street                        NaN  NaN      B         0      0   \n",
       "2       living_street                        NaN  NaN      B         0      0   \n",
       "3         residential                        NaN  NaN      B         0      0   \n",
       "4         residential                        NaN  NaN      B         0      0   \n",
       "...               ...                        ...  ...    ...       ...    ...   \n",
       "466335    residential          Jalan Gang Masjid  NaN      B         0      0   \n",
       "466336        service                        NaN  NaN      B         0      0   \n",
       "466337    residential          Jalan Gang Masjid  NaN      B         0      0   \n",
       "466338    residential              Jalan Permadi  NaN      B         0      0   \n",
       "466339      secondary  Jalan Raya Kelapa Hybrida  NaN      B         0      0   \n",
       "\n",
       "       bridge tunnel  distance_to_road  \n",
       "0           F      F          0.000025  \n",
       "1           F      F          0.000054  \n",
       "2           F      F          0.000081  \n",
       "3           F      F          0.000027  \n",
       "4           F      F          0.000004  \n",
       "...       ...    ...               ...  \n",
       "466335      F      F          0.000014  \n",
       "466336      F      F          0.000009  \n",
       "466337      F      F          0.000441  \n",
       "466338      F      F          0.000941  \n",
       "466339      F      F          0.000066  \n",
       "\n",
       "[466340 rows x 18 columns]"
      ]
     },
     "execution_count": 55,
     "metadata": {},
     "output_type": "execute_result"
    }
   ],
   "source": [
    "merged_data "
   ]
  },
  {
   "cell_type": "code",
   "execution_count": 56,
   "metadata": {},
   "outputs": [],
   "source": [
    "merged_data.drop_duplicates(inplace=True) # Removing duplicate values"
   ]
  },
  {
   "cell_type": "code",
   "execution_count": 57,
   "metadata": {},
   "outputs": [
    {
     "data": {
      "text/plain": [
       "WEIGHT                      0\n",
       "DIS2NT                      0\n",
       "geometry                    0\n",
       "placeid                     0\n",
       "Petrol_pump_name            0\n",
       "displaylat                  0\n",
       "displaylon                  0\n",
       "distance_to_station         0\n",
       "code                        0\n",
       "fclass                      0\n",
       "road_name              173206\n",
       "ref                    450751\n",
       "oneway                      0\n",
       "maxspeed                    0\n",
       "layer                       0\n",
       "bridge                      0\n",
       "tunnel                      0\n",
       "distance_to_road            0\n",
       "dtype: int64"
      ]
     },
     "execution_count": 57,
     "metadata": {},
     "output_type": "execute_result"
    }
   ],
   "source": [
    "## Finding null values \n",
    "\n",
    "merged_data.isnull().sum()"
   ]
  },
  {
   "cell_type": "code",
   "execution_count": 58,
   "metadata": {},
   "outputs": [],
   "source": [
    "## Dropping null values \n",
    "merged_data.drop(columns=[\"road_name\",\"ref\"],inplace=True)"
   ]
  },
  {
   "cell_type": "code",
   "execution_count": 59,
   "metadata": {},
   "outputs": [
    {
     "data": {
      "text/html": [
       "<div>\n",
       "<style scoped>\n",
       "    .dataframe tbody tr th:only-of-type {\n",
       "        vertical-align: middle;\n",
       "    }\n",
       "\n",
       "    .dataframe tbody tr th {\n",
       "        vertical-align: top;\n",
       "    }\n",
       "\n",
       "    .dataframe thead th {\n",
       "        text-align: right;\n",
       "    }\n",
       "</style>\n",
       "<table border=\"1\" class=\"dataframe\">\n",
       "  <thead>\n",
       "    <tr style=\"text-align: right;\">\n",
       "      <th></th>\n",
       "      <th>WEIGHT</th>\n",
       "      <th>DIS2NT</th>\n",
       "      <th>geometry</th>\n",
       "      <th>placeid</th>\n",
       "      <th>Petrol_pump_name</th>\n",
       "      <th>displaylat</th>\n",
       "      <th>displaylon</th>\n",
       "      <th>distance_to_station</th>\n",
       "      <th>code</th>\n",
       "      <th>fclass</th>\n",
       "      <th>oneway</th>\n",
       "      <th>maxspeed</th>\n",
       "      <th>layer</th>\n",
       "      <th>bridge</th>\n",
       "      <th>tunnel</th>\n",
       "      <th>distance_to_road</th>\n",
       "    </tr>\n",
       "  </thead>\n",
       "  <tbody>\n",
       "    <tr>\n",
       "      <th>0</th>\n",
       "      <td>1</td>\n",
       "      <td>31</td>\n",
       "      <td>POINT (106.852782 -6.343371)</td>\n",
       "      <td>71</td>\n",
       "      <td>Warung Bang Jamin</td>\n",
       "      <td>-6.344676</td>\n",
       "      <td>106.848766</td>\n",
       "      <td>0.004223</td>\n",
       "      <td>5122</td>\n",
       "      <td>residential</td>\n",
       "      <td>B</td>\n",
       "      <td>0</td>\n",
       "      <td>0</td>\n",
       "      <td>F</td>\n",
       "      <td>F</td>\n",
       "      <td>0.000025</td>\n",
       "    </tr>\n",
       "    <tr>\n",
       "      <th>1</th>\n",
       "      <td>1</td>\n",
       "      <td>172</td>\n",
       "      <td>POINT (106.8527533 -6.3446933)</td>\n",
       "      <td>71</td>\n",
       "      <td>Warung Bang Jamin</td>\n",
       "      <td>-6.344676</td>\n",
       "      <td>106.848766</td>\n",
       "      <td>0.003987</td>\n",
       "      <td>5123</td>\n",
       "      <td>living_street</td>\n",
       "      <td>B</td>\n",
       "      <td>0</td>\n",
       "      <td>0</td>\n",
       "      <td>F</td>\n",
       "      <td>F</td>\n",
       "      <td>0.000054</td>\n",
       "    </tr>\n",
       "    <tr>\n",
       "      <th>2</th>\n",
       "      <td>4</td>\n",
       "      <td>166</td>\n",
       "      <td>POINT (106.852758 -6.344825)</td>\n",
       "      <td>71</td>\n",
       "      <td>Warung Bang Jamin</td>\n",
       "      <td>-6.344676</td>\n",
       "      <td>106.848766</td>\n",
       "      <td>0.003995</td>\n",
       "      <td>5123</td>\n",
       "      <td>living_street</td>\n",
       "      <td>B</td>\n",
       "      <td>0</td>\n",
       "      <td>0</td>\n",
       "      <td>F</td>\n",
       "      <td>F</td>\n",
       "      <td>0.000081</td>\n",
       "    </tr>\n",
       "    <tr>\n",
       "      <th>3</th>\n",
       "      <td>2</td>\n",
       "      <td>750</td>\n",
       "      <td>POINT (106.9783265 -6.1802855)</td>\n",
       "      <td>236</td>\n",
       "      <td>Dodo</td>\n",
       "      <td>-6.182198</td>\n",
       "      <td>106.982084</td>\n",
       "      <td>0.004216</td>\n",
       "      <td>5122</td>\n",
       "      <td>residential</td>\n",
       "      <td>B</td>\n",
       "      <td>0</td>\n",
       "      <td>0</td>\n",
       "      <td>F</td>\n",
       "      <td>F</td>\n",
       "      <td>0.000027</td>\n",
       "    </tr>\n",
       "    <tr>\n",
       "      <th>4</th>\n",
       "      <td>1</td>\n",
       "      <td>9999</td>\n",
       "      <td>POINT (106.869432 -6.370574)</td>\n",
       "      <td>396</td>\n",
       "      <td>Pertamina</td>\n",
       "      <td>-6.373070</td>\n",
       "      <td>106.872050</td>\n",
       "      <td>0.003617</td>\n",
       "      <td>5122</td>\n",
       "      <td>residential</td>\n",
       "      <td>B</td>\n",
       "      <td>0</td>\n",
       "      <td>0</td>\n",
       "      <td>F</td>\n",
       "      <td>F</td>\n",
       "      <td>0.000004</td>\n",
       "    </tr>\n",
       "    <tr>\n",
       "      <th>...</th>\n",
       "      <td>...</td>\n",
       "      <td>...</td>\n",
       "      <td>...</td>\n",
       "      <td>...</td>\n",
       "      <td>...</td>\n",
       "      <td>...</td>\n",
       "      <td>...</td>\n",
       "      <td>...</td>\n",
       "      <td>...</td>\n",
       "      <td>...</td>\n",
       "      <td>...</td>\n",
       "      <td>...</td>\n",
       "      <td>...</td>\n",
       "      <td>...</td>\n",
       "      <td>...</td>\n",
       "      <td>...</td>\n",
       "    </tr>\n",
       "    <tr>\n",
       "      <th>466335</th>\n",
       "      <td>175</td>\n",
       "      <td>1</td>\n",
       "      <td>POINT (106.916981106 -6.14978758343)</td>\n",
       "      <td>516</td>\n",
       "      <td>Pertamina</td>\n",
       "      <td>-6.148502</td>\n",
       "      <td>106.916765</td>\n",
       "      <td>0.001304</td>\n",
       "      <td>5122</td>\n",
       "      <td>residential</td>\n",
       "      <td>B</td>\n",
       "      <td>0</td>\n",
       "      <td>0</td>\n",
       "      <td>F</td>\n",
       "      <td>F</td>\n",
       "      <td>0.000014</td>\n",
       "    </tr>\n",
       "    <tr>\n",
       "      <th>466336</th>\n",
       "      <td>9</td>\n",
       "      <td>1</td>\n",
       "      <td>POINT (106.822344889 -6.28755744444)</td>\n",
       "      <td>42</td>\n",
       "      <td>Pertamina</td>\n",
       "      <td>-6.290469</td>\n",
       "      <td>106.823484</td>\n",
       "      <td>0.003126</td>\n",
       "      <td>5141</td>\n",
       "      <td>service</td>\n",
       "      <td>B</td>\n",
       "      <td>0</td>\n",
       "      <td>0</td>\n",
       "      <td>F</td>\n",
       "      <td>F</td>\n",
       "      <td>0.000009</td>\n",
       "    </tr>\n",
       "    <tr>\n",
       "      <th>466337</th>\n",
       "      <td>1</td>\n",
       "      <td>49</td>\n",
       "      <td>POINT (106.916862 -6.149337)</td>\n",
       "      <td>516</td>\n",
       "      <td>Pertamina</td>\n",
       "      <td>-6.148502</td>\n",
       "      <td>106.916765</td>\n",
       "      <td>0.000841</td>\n",
       "      <td>5122</td>\n",
       "      <td>residential</td>\n",
       "      <td>B</td>\n",
       "      <td>0</td>\n",
       "      <td>0</td>\n",
       "      <td>F</td>\n",
       "      <td>F</td>\n",
       "      <td>0.000441</td>\n",
       "    </tr>\n",
       "    <tr>\n",
       "      <th>466338</th>\n",
       "      <td>1</td>\n",
       "      <td>97</td>\n",
       "      <td>POINT (106.890658 -6.285498)</td>\n",
       "      <td>379</td>\n",
       "      <td>Pertamina</td>\n",
       "      <td>-6.291337</td>\n",
       "      <td>106.888375</td>\n",
       "      <td>0.006269</td>\n",
       "      <td>5122</td>\n",
       "      <td>residential</td>\n",
       "      <td>B</td>\n",
       "      <td>0</td>\n",
       "      <td>0</td>\n",
       "      <td>F</td>\n",
       "      <td>F</td>\n",
       "      <td>0.000941</td>\n",
       "    </tr>\n",
       "    <tr>\n",
       "      <th>466339</th>\n",
       "      <td>681</td>\n",
       "      <td>4</td>\n",
       "      <td>POINT (106.916968764 -6.14871343818)</td>\n",
       "      <td>516</td>\n",
       "      <td>Pertamina</td>\n",
       "      <td>-6.148502</td>\n",
       "      <td>106.916765</td>\n",
       "      <td>0.000294</td>\n",
       "      <td>5114</td>\n",
       "      <td>secondary</td>\n",
       "      <td>B</td>\n",
       "      <td>0</td>\n",
       "      <td>0</td>\n",
       "      <td>F</td>\n",
       "      <td>F</td>\n",
       "      <td>0.000066</td>\n",
       "    </tr>\n",
       "  </tbody>\n",
       "</table>\n",
       "<p>465552 rows × 16 columns</p>\n",
       "</div>"
      ],
      "text/plain": [
       "        WEIGHT  DIS2NT                              geometry  placeid  \\\n",
       "0            1      31          POINT (106.852782 -6.343371)       71   \n",
       "1            1     172        POINT (106.8527533 -6.3446933)       71   \n",
       "2            4     166          POINT (106.852758 -6.344825)       71   \n",
       "3            2     750        POINT (106.9783265 -6.1802855)      236   \n",
       "4            1    9999          POINT (106.869432 -6.370574)      396   \n",
       "...        ...     ...                                   ...      ...   \n",
       "466335     175       1  POINT (106.916981106 -6.14978758343)      516   \n",
       "466336       9       1  POINT (106.822344889 -6.28755744444)       42   \n",
       "466337       1      49          POINT (106.916862 -6.149337)      516   \n",
       "466338       1      97          POINT (106.890658 -6.285498)      379   \n",
       "466339     681       4  POINT (106.916968764 -6.14871343818)      516   \n",
       "\n",
       "         Petrol_pump_name  displaylat  displaylon  distance_to_station  code  \\\n",
       "0       Warung Bang Jamin   -6.344676  106.848766             0.004223  5122   \n",
       "1       Warung Bang Jamin   -6.344676  106.848766             0.003987  5123   \n",
       "2       Warung Bang Jamin   -6.344676  106.848766             0.003995  5123   \n",
       "3                    Dodo   -6.182198  106.982084             0.004216  5122   \n",
       "4               Pertamina   -6.373070  106.872050             0.003617  5122   \n",
       "...                   ...         ...         ...                  ...   ...   \n",
       "466335          Pertamina   -6.148502  106.916765             0.001304  5122   \n",
       "466336          Pertamina   -6.290469  106.823484             0.003126  5141   \n",
       "466337          Pertamina   -6.148502  106.916765             0.000841  5122   \n",
       "466338          Pertamina   -6.291337  106.888375             0.006269  5122   \n",
       "466339          Pertamina   -6.148502  106.916765             0.000294  5114   \n",
       "\n",
       "               fclass oneway  maxspeed  layer bridge tunnel  distance_to_road  \n",
       "0         residential      B         0      0      F      F          0.000025  \n",
       "1       living_street      B         0      0      F      F          0.000054  \n",
       "2       living_street      B         0      0      F      F          0.000081  \n",
       "3         residential      B         0      0      F      F          0.000027  \n",
       "4         residential      B         0      0      F      F          0.000004  \n",
       "...               ...    ...       ...    ...    ...    ...               ...  \n",
       "466335    residential      B         0      0      F      F          0.000014  \n",
       "466336        service      B         0      0      F      F          0.000009  \n",
       "466337    residential      B         0      0      F      F          0.000441  \n",
       "466338    residential      B         0      0      F      F          0.000941  \n",
       "466339      secondary      B         0      0      F      F          0.000066  \n",
       "\n",
       "[465552 rows x 16 columns]"
      ]
     },
     "execution_count": 59,
     "metadata": {},
     "output_type": "execute_result"
    }
   ],
   "source": [
    "merged_data "
   ]
  },
  {
   "cell_type": "code",
   "execution_count": 60,
   "metadata": {},
   "outputs": [],
   "source": [
    "merged_data.drop(['Petrol_pump_name',\"bridge\"],inplace=True,axis=1)"
   ]
  },
  {
   "cell_type": "code",
   "execution_count": 61,
   "metadata": {},
   "outputs": [
    {
     "name": "stdout",
     "output_type": "stream",
     "text": [
      "fclass ['residential' 'living_street' 'primary' 'secondary' 'service' 'trunk'\n",
      " 'tertiary' 'path' 'motorway' 'footway' 'busway' 'unclassified'\n",
      " 'motorway_link' 'trunk_link' 'tertiary_link' 'track' 'primary_link'\n",
      " 'secondary_link' 'cycleway' 'steps' 'pedestrian' 'track_grade3'\n",
      " 'track_grade5']\n",
      "oneway ['B' 'F' 'T']\n",
      "tunnel ['F' 'T']\n"
     ]
    }
   ],
   "source": [
    "for i in merged_data.select_dtypes(exclude=[\"number\"]).columns:\n",
    "    if i!= \"geometry\" :\n",
    "        print(i ,merged_data[i].unique())\n",
    "        \n"
   ]
  },
  {
   "cell_type": "code",
   "execution_count": 62,
   "metadata": {},
   "outputs": [
    {
     "data": {
      "text/plain": [
       "Index(['WEIGHT', 'DIS2NT', 'geometry', 'placeid', 'displaylat', 'displaylon',\n",
       "       'distance_to_station', 'code', 'fclass', 'oneway', 'maxspeed', 'layer',\n",
       "       'tunnel', 'distance_to_road'],\n",
       "      dtype='object')"
      ]
     },
     "execution_count": 62,
     "metadata": {},
     "output_type": "execute_result"
    }
   ],
   "source": [
    "merged_data.columns"
   ]
  },
  {
   "cell_type": "code",
   "execution_count": 76,
   "metadata": {},
   "outputs": [
    {
     "name": "stdout",
     "output_type": "stream",
     "text": [
      "        WEIGHT  DIS2NT                              geometry  placeid  \\\n",
      "0            1      31          POINT (106.852782 -6.343371)       71   \n",
      "1            1     172        POINT (106.8527533 -6.3446933)       71   \n",
      "2            4     166          POINT (106.852758 -6.344825)       71   \n",
      "3            2     750        POINT (106.9783265 -6.1802855)      236   \n",
      "4            1    9999          POINT (106.869432 -6.370574)      396   \n",
      "...        ...     ...                                   ...      ...   \n",
      "466335     175       1  POINT (106.916981106 -6.14978758343)      516   \n",
      "466336       9       1  POINT (106.822344889 -6.28755744444)       42   \n",
      "466337       1      49          POINT (106.916862 -6.149337)      516   \n",
      "466338       1      97          POINT (106.890658 -6.285498)      379   \n",
      "466339     681       4  POINT (106.916968764 -6.14871343818)      516   \n",
      "\n",
      "        displaylat  displaylon  distance_to_station  code  fclass  oneway  \\\n",
      "0        -6.344676  106.848766             0.004223  5122      10       0   \n",
      "1        -6.344676  106.848766             0.003987  5123       3       0   \n",
      "2        -6.344676  106.848766             0.003995  5123       3       0   \n",
      "3        -6.182198  106.982084             0.004216  5122      10       0   \n",
      "4        -6.373070  106.872050             0.003617  5122      10       0   \n",
      "...            ...         ...                  ...   ...     ...     ...   \n",
      "466335   -6.148502  106.916765             0.001304  5122      10       0   \n",
      "466336   -6.290469  106.823484             0.003126  5141      13       0   \n",
      "466337   -6.148502  106.916765             0.000841  5122      10       0   \n",
      "466338   -6.291337  106.888375             0.006269  5122      10       0   \n",
      "466339   -6.148502  106.916765             0.000294  5114      11       0   \n",
      "\n",
      "        maxspeed  layer  tunnel  distance_to_road  \n",
      "0              0      0       0          0.000025  \n",
      "1              0      0       0          0.000054  \n",
      "2              0      0       0          0.000081  \n",
      "3              0      0       0          0.000027  \n",
      "4              0      0       0          0.000004  \n",
      "...          ...    ...     ...               ...  \n",
      "466335         0      0       0          0.000014  \n",
      "466336         0      0       0          0.000009  \n",
      "466337         0      0       0          0.000441  \n",
      "466338         0      0       0          0.000941  \n",
      "466339         0      0       0          0.000066  \n",
      "\n",
      "[465552 rows x 14 columns]\n"
     ]
    }
   ],
   "source": [
    "import pandas as pd\n",
    "from sklearn.preprocessing import LabelEncoder\n",
    "\n",
    "le = LabelEncoder()\n",
    "\n",
    "for i in merged_data.select_dtypes(exclude=[\"number\"]).columns:\n",
    "    if i!= \"geometry\" :\n",
    "        merged_data[i] = le.fit_transform(merged_data[i])\n",
    "        \n",
    "print(merged_data)\n"
   ]
  },
  {
   "cell_type": "code",
   "execution_count": 77,
   "metadata": {},
   "outputs": [
    {
     "name": "stdout",
     "output_type": "stream",
     "text": [
      "tunnel ['POINT (106.852782 -6.343371)' 'POINT (106.8527533 -6.3446933)'\n",
      " 'POINT (106.852758 -6.344825)' ... 'POINT (106.916862 -6.149337)'\n",
      " 'POINT (106.890658 -6.285498)' 'POINT (106.916968764 -6.14871343818)']\n"
     ]
    }
   ],
   "source": [
    "for col in merged_data.select_dtypes(exclude=[\"number\"]).columns:\n",
    "    print(i,merged_data[col].unique())"
   ]
  },
  {
   "cell_type": "code",
   "execution_count": 78,
   "metadata": {},
   "outputs": [
    {
     "data": {
      "application/vnd.plotly.v1+json": {
       "config": {
        "plotlyServerURL": "https://plot.ly"
       },
       "data": [
        {
         "coloraxis": "coloraxis",
         "hovertemplate": "x: %{x}<br>y: %{y}<br>Correlation: %{z}<extra></extra>",
         "name": "0",
         "texttemplate": "%{z}",
         "type": "heatmap",
         "x": [
          "WEIGHT",
          "DIS2NT",
          "placeid",
          "displaylat",
          "displaylon",
          "distance_to_station",
          "code",
          "fclass",
          "oneway",
          "maxspeed",
          "layer",
          "tunnel",
          "distance_to_road"
         ],
         "xaxis": "x",
         "y": [
          "WEIGHT",
          "DIS2NT",
          "placeid",
          "displaylat",
          "displaylon",
          "distance_to_station",
          "code",
          "fclass",
          "oneway",
          "maxspeed",
          "layer",
          "tunnel",
          "distance_to_road"
         ],
         "yaxis": "y",
         "z": [
          [
           1,
           -0.0328199516771,
           -0.002917970350154048,
           0.007257108857069134,
           0.0018803875162493385,
           -0.05143444624725425,
           -0.12329232903016843,
           -0.051757402984509274,
           0.24948716367595591,
           0.1883950884835051,
           0.13863108083125597,
           0.0198913532878378,
           -0.01452426114520988
          ],
          [
           -0.0328199516771,
           1,
           -0.015471335096968398,
           -0.23332508015916878,
           -0.026967882209660392,
           0.032429472186746175,
           -0.04115557289993601,
           0.0004204569482975697,
           -0.023008082273956315,
           -0.008161469452296182,
           -0.021247102020933467,
           -0.0018218685726893206,
           0.013265641195383884
          ],
          [
           -0.002917970350154048,
           -0.015471335096968398,
           1,
           -0.09527548743269643,
           0.02540389309433015,
           -0.027175950888044975,
           -0.0001905683122738797,
           -0.01389149942462868,
           -0.0022045985931339303,
           0.018979044343800638,
           -0.0035842379004523577,
           0.0030061745197054826,
           0.017518959695699582
          ],
          [
           0.007257108857069134,
           -0.23332508015916878,
           -0.09527548743269643,
           1,
           -0.1410626950232757,
           0.0728058789182272,
           0.1531788535725192,
           0.11966178900493993,
           0.04386186426769804,
           -0.09296530864003728,
           0.04433387191434295,
           -0.0006948664572189335,
           0.06277843426193082
          ],
          [
           0.0018803875162493385,
           -0.026967882209660392,
           0.02540389309433015,
           -0.1410626950232757,
           1,
           0.0526818088083351,
           0.04716216656951135,
           0.02169740255170454,
           -0.023748660161639085,
           0.03088344492978804,
           0.02251306827148239,
           0.001930226686577525,
           0.001739220401863138
          ],
          [
           -0.05143444624725425,
           0.032429472186746175,
           -0.027175950888044975,
           0.0728058789182272,
           0.0526818088083351,
           1,
           0.06477547258675749,
           0.03272537806625341,
           -0.07145158664175622,
           -0.0033429580599373403,
           -0.014758826658675712,
           -0.0017670306300230484,
           0.24650844138230296
          ],
          [
           -0.12329232903016843,
           -0.04115557289993601,
           -0.0001905683122738797,
           0.1531788535725192,
           0.04716216656951135,
           0.06477547258675749,
           1,
           0.07526553064234395,
           -0.22308887608224826,
           -0.13678297695435238,
           -0.0741118709483989,
           0.021908784437564673,
           0.09576415532145624
          ],
          [
           -0.051757402984509274,
           0.0004204569482975697,
           -0.01389149942462868,
           0.11966178900493993,
           0.02169740255170454,
           0.03272537806625341,
           0.07526553064234395,
           1,
           0.07054069116133363,
           -0.1316494480515451,
           -0.10994998823584465,
           0.007427699873915432,
           0.01860681328676654
          ],
          [
           0.24948716367595591,
           -0.023008082273956315,
           -0.0022045985931339303,
           0.04386186426769804,
           -0.023748660161639085,
           -0.07145158664175622,
           -0.22308887608224826,
           0.07054069116133363,
           1,
           0.23057633854402726,
           0.1820789087201369,
           0.024278764838007748,
           -0.025254203491135257
          ],
          [
           0.1883950884835051,
           -0.008161469452296182,
           0.018979044343800638,
           -0.09296530864003728,
           0.03088344492978804,
           -0.0033429580599373403,
           -0.13678297695435238,
           -0.1316494480515451,
           0.23057633854402726,
           1,
           0.21574359948472233,
           0.006176729433985014,
           -0.0018237390863635487
          ],
          [
           0.13863108083125597,
           -0.021247102020933467,
           -0.0035842379004523577,
           0.04433387191434295,
           0.02251306827148239,
           -0.014758826658675712,
           -0.0741118709483989,
           -0.10994998823584465,
           0.1820789087201369,
           0.21574359948472233,
           1,
           -0.07392277015839696,
           -0.007246331972505404
          ],
          [
           0.0198913532878378,
           -0.0018218685726893206,
           0.0030061745197054826,
           -0.0006948664572189335,
           0.001930226686577525,
           -0.0017670306300230484,
           0.021908784437564673,
           0.007427699873915432,
           0.024278764838007748,
           0.006176729433985014,
           -0.07392277015839696,
           1,
           0.0008542850537907743
          ],
          [
           -0.01452426114520988,
           0.013265641195383884,
           0.017518959695699582,
           0.06277843426193082,
           0.001739220401863138,
           0.24650844138230296,
           0.09576415532145624,
           0.01860681328676654,
           -0.025254203491135257,
           -0.0018237390863635487,
           -0.007246331972505404,
           0.0008542850537907743,
           1
          ]
         ]
        }
       ],
       "layout": {
        "coloraxis": {
         "colorbar": {
          "title": {
           "text": "Correlation"
          }
         },
         "colorscale": [
          [
           0,
           "rgb(5,48,97)"
          ],
          [
           0.1,
           "rgb(33,102,172)"
          ],
          [
           0.2,
           "rgb(67,147,195)"
          ],
          [
           0.3,
           "rgb(146,197,222)"
          ],
          [
           0.4,
           "rgb(209,229,240)"
          ],
          [
           0.5,
           "rgb(247,247,247)"
          ],
          [
           0.6,
           "rgb(253,219,199)"
          ],
          [
           0.7,
           "rgb(244,165,130)"
          ],
          [
           0.8,
           "rgb(214,96,77)"
          ],
          [
           0.9,
           "rgb(178,24,43)"
          ],
          [
           1,
           "rgb(103,0,31)"
          ]
         ]
        },
        "height": 700,
        "template": {
         "data": {
          "bar": [
           {
            "error_x": {
             "color": "#2a3f5f"
            },
            "error_y": {
             "color": "#2a3f5f"
            },
            "marker": {
             "line": {
              "color": "#E5ECF6",
              "width": 0.5
             },
             "pattern": {
              "fillmode": "overlay",
              "size": 10,
              "solidity": 0.2
             }
            },
            "type": "bar"
           }
          ],
          "barpolar": [
           {
            "marker": {
             "line": {
              "color": "#E5ECF6",
              "width": 0.5
             },
             "pattern": {
              "fillmode": "overlay",
              "size": 10,
              "solidity": 0.2
             }
            },
            "type": "barpolar"
           }
          ],
          "carpet": [
           {
            "aaxis": {
             "endlinecolor": "#2a3f5f",
             "gridcolor": "white",
             "linecolor": "white",
             "minorgridcolor": "white",
             "startlinecolor": "#2a3f5f"
            },
            "baxis": {
             "endlinecolor": "#2a3f5f",
             "gridcolor": "white",
             "linecolor": "white",
             "minorgridcolor": "white",
             "startlinecolor": "#2a3f5f"
            },
            "type": "carpet"
           }
          ],
          "choropleth": [
           {
            "colorbar": {
             "outlinewidth": 0,
             "ticks": ""
            },
            "type": "choropleth"
           }
          ],
          "contour": [
           {
            "colorbar": {
             "outlinewidth": 0,
             "ticks": ""
            },
            "colorscale": [
             [
              0,
              "#0d0887"
             ],
             [
              0.1111111111111111,
              "#46039f"
             ],
             [
              0.2222222222222222,
              "#7201a8"
             ],
             [
              0.3333333333333333,
              "#9c179e"
             ],
             [
              0.4444444444444444,
              "#bd3786"
             ],
             [
              0.5555555555555556,
              "#d8576b"
             ],
             [
              0.6666666666666666,
              "#ed7953"
             ],
             [
              0.7777777777777778,
              "#fb9f3a"
             ],
             [
              0.8888888888888888,
              "#fdca26"
             ],
             [
              1,
              "#f0f921"
             ]
            ],
            "type": "contour"
           }
          ],
          "contourcarpet": [
           {
            "colorbar": {
             "outlinewidth": 0,
             "ticks": ""
            },
            "type": "contourcarpet"
           }
          ],
          "heatmap": [
           {
            "colorbar": {
             "outlinewidth": 0,
             "ticks": ""
            },
            "colorscale": [
             [
              0,
              "#0d0887"
             ],
             [
              0.1111111111111111,
              "#46039f"
             ],
             [
              0.2222222222222222,
              "#7201a8"
             ],
             [
              0.3333333333333333,
              "#9c179e"
             ],
             [
              0.4444444444444444,
              "#bd3786"
             ],
             [
              0.5555555555555556,
              "#d8576b"
             ],
             [
              0.6666666666666666,
              "#ed7953"
             ],
             [
              0.7777777777777778,
              "#fb9f3a"
             ],
             [
              0.8888888888888888,
              "#fdca26"
             ],
             [
              1,
              "#f0f921"
             ]
            ],
            "type": "heatmap"
           }
          ],
          "heatmapgl": [
           {
            "colorbar": {
             "outlinewidth": 0,
             "ticks": ""
            },
            "colorscale": [
             [
              0,
              "#0d0887"
             ],
             [
              0.1111111111111111,
              "#46039f"
             ],
             [
              0.2222222222222222,
              "#7201a8"
             ],
             [
              0.3333333333333333,
              "#9c179e"
             ],
             [
              0.4444444444444444,
              "#bd3786"
             ],
             [
              0.5555555555555556,
              "#d8576b"
             ],
             [
              0.6666666666666666,
              "#ed7953"
             ],
             [
              0.7777777777777778,
              "#fb9f3a"
             ],
             [
              0.8888888888888888,
              "#fdca26"
             ],
             [
              1,
              "#f0f921"
             ]
            ],
            "type": "heatmapgl"
           }
          ],
          "histogram": [
           {
            "marker": {
             "pattern": {
              "fillmode": "overlay",
              "size": 10,
              "solidity": 0.2
             }
            },
            "type": "histogram"
           }
          ],
          "histogram2d": [
           {
            "colorbar": {
             "outlinewidth": 0,
             "ticks": ""
            },
            "colorscale": [
             [
              0,
              "#0d0887"
             ],
             [
              0.1111111111111111,
              "#46039f"
             ],
             [
              0.2222222222222222,
              "#7201a8"
             ],
             [
              0.3333333333333333,
              "#9c179e"
             ],
             [
              0.4444444444444444,
              "#bd3786"
             ],
             [
              0.5555555555555556,
              "#d8576b"
             ],
             [
              0.6666666666666666,
              "#ed7953"
             ],
             [
              0.7777777777777778,
              "#fb9f3a"
             ],
             [
              0.8888888888888888,
              "#fdca26"
             ],
             [
              1,
              "#f0f921"
             ]
            ],
            "type": "histogram2d"
           }
          ],
          "histogram2dcontour": [
           {
            "colorbar": {
             "outlinewidth": 0,
             "ticks": ""
            },
            "colorscale": [
             [
              0,
              "#0d0887"
             ],
             [
              0.1111111111111111,
              "#46039f"
             ],
             [
              0.2222222222222222,
              "#7201a8"
             ],
             [
              0.3333333333333333,
              "#9c179e"
             ],
             [
              0.4444444444444444,
              "#bd3786"
             ],
             [
              0.5555555555555556,
              "#d8576b"
             ],
             [
              0.6666666666666666,
              "#ed7953"
             ],
             [
              0.7777777777777778,
              "#fb9f3a"
             ],
             [
              0.8888888888888888,
              "#fdca26"
             ],
             [
              1,
              "#f0f921"
             ]
            ],
            "type": "histogram2dcontour"
           }
          ],
          "mesh3d": [
           {
            "colorbar": {
             "outlinewidth": 0,
             "ticks": ""
            },
            "type": "mesh3d"
           }
          ],
          "parcoords": [
           {
            "line": {
             "colorbar": {
              "outlinewidth": 0,
              "ticks": ""
             }
            },
            "type": "parcoords"
           }
          ],
          "pie": [
           {
            "automargin": true,
            "type": "pie"
           }
          ],
          "scatter": [
           {
            "fillpattern": {
             "fillmode": "overlay",
             "size": 10,
             "solidity": 0.2
            },
            "type": "scatter"
           }
          ],
          "scatter3d": [
           {
            "line": {
             "colorbar": {
              "outlinewidth": 0,
              "ticks": ""
             }
            },
            "marker": {
             "colorbar": {
              "outlinewidth": 0,
              "ticks": ""
             }
            },
            "type": "scatter3d"
           }
          ],
          "scattercarpet": [
           {
            "marker": {
             "colorbar": {
              "outlinewidth": 0,
              "ticks": ""
             }
            },
            "type": "scattercarpet"
           }
          ],
          "scattergeo": [
           {
            "marker": {
             "colorbar": {
              "outlinewidth": 0,
              "ticks": ""
             }
            },
            "type": "scattergeo"
           }
          ],
          "scattergl": [
           {
            "marker": {
             "colorbar": {
              "outlinewidth": 0,
              "ticks": ""
             }
            },
            "type": "scattergl"
           }
          ],
          "scattermapbox": [
           {
            "marker": {
             "colorbar": {
              "outlinewidth": 0,
              "ticks": ""
             }
            },
            "type": "scattermapbox"
           }
          ],
          "scatterpolar": [
           {
            "marker": {
             "colorbar": {
              "outlinewidth": 0,
              "ticks": ""
             }
            },
            "type": "scatterpolar"
           }
          ],
          "scatterpolargl": [
           {
            "marker": {
             "colorbar": {
              "outlinewidth": 0,
              "ticks": ""
             }
            },
            "type": "scatterpolargl"
           }
          ],
          "scatterternary": [
           {
            "marker": {
             "colorbar": {
              "outlinewidth": 0,
              "ticks": ""
             }
            },
            "type": "scatterternary"
           }
          ],
          "surface": [
           {
            "colorbar": {
             "outlinewidth": 0,
             "ticks": ""
            },
            "colorscale": [
             [
              0,
              "#0d0887"
             ],
             [
              0.1111111111111111,
              "#46039f"
             ],
             [
              0.2222222222222222,
              "#7201a8"
             ],
             [
              0.3333333333333333,
              "#9c179e"
             ],
             [
              0.4444444444444444,
              "#bd3786"
             ],
             [
              0.5555555555555556,
              "#d8576b"
             ],
             [
              0.6666666666666666,
              "#ed7953"
             ],
             [
              0.7777777777777778,
              "#fb9f3a"
             ],
             [
              0.8888888888888888,
              "#fdca26"
             ],
             [
              1,
              "#f0f921"
             ]
            ],
            "type": "surface"
           }
          ],
          "table": [
           {
            "cells": {
             "fill": {
              "color": "#EBF0F8"
             },
             "line": {
              "color": "white"
             }
            },
            "header": {
             "fill": {
              "color": "#C8D4E3"
             },
             "line": {
              "color": "white"
             }
            },
            "type": "table"
           }
          ]
         },
         "layout": {
          "annotationdefaults": {
           "arrowcolor": "#2a3f5f",
           "arrowhead": 0,
           "arrowwidth": 1
          },
          "autotypenumbers": "strict",
          "coloraxis": {
           "colorbar": {
            "outlinewidth": 0,
            "ticks": ""
           }
          },
          "colorscale": {
           "diverging": [
            [
             0,
             "#8e0152"
            ],
            [
             0.1,
             "#c51b7d"
            ],
            [
             0.2,
             "#de77ae"
            ],
            [
             0.3,
             "#f1b6da"
            ],
            [
             0.4,
             "#fde0ef"
            ],
            [
             0.5,
             "#f7f7f7"
            ],
            [
             0.6,
             "#e6f5d0"
            ],
            [
             0.7,
             "#b8e186"
            ],
            [
             0.8,
             "#7fbc41"
            ],
            [
             0.9,
             "#4d9221"
            ],
            [
             1,
             "#276419"
            ]
           ],
           "sequential": [
            [
             0,
             "#0d0887"
            ],
            [
             0.1111111111111111,
             "#46039f"
            ],
            [
             0.2222222222222222,
             "#7201a8"
            ],
            [
             0.3333333333333333,
             "#9c179e"
            ],
            [
             0.4444444444444444,
             "#bd3786"
            ],
            [
             0.5555555555555556,
             "#d8576b"
            ],
            [
             0.6666666666666666,
             "#ed7953"
            ],
            [
             0.7777777777777778,
             "#fb9f3a"
            ],
            [
             0.8888888888888888,
             "#fdca26"
            ],
            [
             1,
             "#f0f921"
            ]
           ],
           "sequentialminus": [
            [
             0,
             "#0d0887"
            ],
            [
             0.1111111111111111,
             "#46039f"
            ],
            [
             0.2222222222222222,
             "#7201a8"
            ],
            [
             0.3333333333333333,
             "#9c179e"
            ],
            [
             0.4444444444444444,
             "#bd3786"
            ],
            [
             0.5555555555555556,
             "#d8576b"
            ],
            [
             0.6666666666666666,
             "#ed7953"
            ],
            [
             0.7777777777777778,
             "#fb9f3a"
            ],
            [
             0.8888888888888888,
             "#fdca26"
            ],
            [
             1,
             "#f0f921"
            ]
           ]
          },
          "colorway": [
           "#636efa",
           "#EF553B",
           "#00cc96",
           "#ab63fa",
           "#FFA15A",
           "#19d3f3",
           "#FF6692",
           "#B6E880",
           "#FF97FF",
           "#FECB52"
          ],
          "font": {
           "color": "#2a3f5f"
          },
          "geo": {
           "bgcolor": "white",
           "lakecolor": "white",
           "landcolor": "#E5ECF6",
           "showlakes": true,
           "showland": true,
           "subunitcolor": "white"
          },
          "hoverlabel": {
           "align": "left"
          },
          "hovermode": "closest",
          "mapbox": {
           "style": "light"
          },
          "paper_bgcolor": "white",
          "plot_bgcolor": "#E5ECF6",
          "polar": {
           "angularaxis": {
            "gridcolor": "white",
            "linecolor": "white",
            "ticks": ""
           },
           "bgcolor": "#E5ECF6",
           "radialaxis": {
            "gridcolor": "white",
            "linecolor": "white",
            "ticks": ""
           }
          },
          "scene": {
           "xaxis": {
            "backgroundcolor": "#E5ECF6",
            "gridcolor": "white",
            "gridwidth": 2,
            "linecolor": "white",
            "showbackground": true,
            "ticks": "",
            "zerolinecolor": "white"
           },
           "yaxis": {
            "backgroundcolor": "#E5ECF6",
            "gridcolor": "white",
            "gridwidth": 2,
            "linecolor": "white",
            "showbackground": true,
            "ticks": "",
            "zerolinecolor": "white"
           },
           "zaxis": {
            "backgroundcolor": "#E5ECF6",
            "gridcolor": "white",
            "gridwidth": 2,
            "linecolor": "white",
            "showbackground": true,
            "ticks": "",
            "zerolinecolor": "white"
           }
          },
          "shapedefaults": {
           "line": {
            "color": "#2a3f5f"
           }
          },
          "ternary": {
           "aaxis": {
            "gridcolor": "white",
            "linecolor": "white",
            "ticks": ""
           },
           "baxis": {
            "gridcolor": "white",
            "linecolor": "white",
            "ticks": ""
           },
           "bgcolor": "#E5ECF6",
           "caxis": {
            "gridcolor": "white",
            "linecolor": "white",
            "ticks": ""
           }
          },
          "title": {
           "x": 0.05
          },
          "xaxis": {
           "automargin": true,
           "gridcolor": "white",
           "linecolor": "white",
           "ticks": "",
           "title": {
            "standoff": 15
           },
           "zerolinecolor": "white",
           "zerolinewidth": 2
          },
          "yaxis": {
           "automargin": true,
           "gridcolor": "white",
           "linecolor": "white",
           "ticks": "",
           "title": {
            "standoff": 15
           },
           "zerolinecolor": "white",
           "zerolinewidth": 2
          }
         }
        },
        "title": {
         "text": "Correlation Heatmap"
        },
        "width": 800,
        "xaxis": {
         "anchor": "y",
         "constrain": "domain",
         "domain": [
          0,
          1
         ],
         "scaleanchor": "y",
         "title": {
          "text": "Features"
         }
        },
        "yaxis": {
         "anchor": "x",
         "autorange": "reversed",
         "constrain": "domain",
         "domain": [
          0,
          1
         ],
         "title": {
          "text": "Features"
         }
        }
       }
      }
     },
     "metadata": {},
     "output_type": "display_data"
    }
   ],
   "source": [
    "import plotly.express as px\n",
    "import pandas as pd\n",
    "\n",
    "# Compute correlation matrix\n",
    "correlation_betw_data = merged_data.select_dtypes(\"number\").corr()\n",
    "\n",
    "# Create a heatmap using Plotly\n",
    "fig = px.imshow(\n",
    "    correlation_betw_data,\n",
    "    text_auto=True,  # Show correlation values\n",
    "    color_continuous_scale=\"RdBu_r\",  # Red-Blue color scheme\n",
    "    title=\"Correlation Heatmap\",\n",
    "    labels=dict(color=\"Correlation\"),\n",
    ")\n",
    "\n",
    "# Update layout for better readability\n",
    "fig.update_layout(\n",
    "    width=800,\n",
    "    height=700,\n",
    "    xaxis_title=\"Features\",\n",
    "    yaxis_title=\"Features\",\n",
    ")\n",
    "\n",
    "# Show plot\n",
    "fig.show()\n"
   ]
  },
  {
   "cell_type": "markdown",
   "metadata": {},
   "source": [
    "## Isolation Forest "
   ]
  },
  {
   "cell_type": "code",
   "execution_count": 91,
   "metadata": {},
   "outputs": [
    {
     "name": "stdout",
     "output_type": "stream",
     "text": [
      "Map saved as anomalous_petrol_pumps_map.html with 9 anomalies.\n"
     ]
    }
   ],
   "source": [
    "import pandas as pd\n",
    "import geopandas as gpd\n",
    "import folium\n",
    "from sklearn.ensemble import IsolationForest\n",
    "from sklearn.preprocessing import StandardScaler\n",
    "\n",
    "# Ensure 'geometry' is a valid GeoSeries\n",
    "if not isinstance(merged_data[\"geometry\"], gpd.GeoSeries):\n",
    "    merged_data[\"geometry\"] = gpd.GeoSeries(merged_data[\"geometry\"])\n",
    "\n",
    "# Select numerical columns\n",
    "numerical_cols = merged_data.select_dtypes(include=\"number\")\n",
    "\n",
    "# Scale the numerical data for better anomaly detection\n",
    "scaler = StandardScaler()\n",
    "scaled_features = scaler.fit_transform(numerical_cols)\n",
    "\n",
    "# Train Isolation Forest with refined parameters\n",
    "iso_forest = IsolationForest(n_estimators=300, contamination=0.001, random_state=42)\n",
    "merged_data[\"anomaly_score\"] = iso_forest.fit_predict(scaled_features)\n",
    "\n",
    "# Compute anomaly scores for all rows\n",
    "merged_data[\"anomaly_value\"] = iso_forest.decision_function(scaled_features)  # Lower = stronger anomaly\n",
    "\n",
    "# Extract anomalies\n",
    "anomalies = merged_data[merged_data[\"anomaly_score\"] == -1]\n",
    "\n",
    "# If too many anomalies, keep the 25 most extreme ones\n",
    "if len(anomalies) > 25:\n",
    "    anomalies = anomalies.nsmallest(25, \"anomaly_value\")  # Select most extreme anomalies\n",
    "\n",
    "# Group anomalies by placeid and keep only one entry per petrol pump\n",
    "anomaly_pumps = anomalies.groupby(\"placeid\").first().reset_index()\n",
    "\n",
    "# ------------------- Visualization -------------------\n",
    "# Center map at the mean of petrol pump locations\n",
    "m = folium.Map(\n",
    "    location=[merged_data[\"displaylat\"].mean(), merged_data[\"displaylon\"].mean()], zoom_start=12\n",
    ")\n",
    "\n",
    "# Plot unique petrol pumps detected as anomalies\n",
    "for _, row in anomaly_pumps.iterrows():\n",
    "    lat, lon = row.geometry.y, row.geometry.x  # Extract petrol pump location\n",
    "    popup_text = f\"\"\"\n",
    "    <b>Anomalous Petrol Pump</b><br>\n",
    "    <b>PlaceID:</b> {row['placeid']}<br>\n",
    "    <b>Coordinates:</b> ({lat}, {lon})\n",
    "    \"\"\"\n",
    "    folium.Marker(\n",
    "        location=[lat, lon],\n",
    "        popup=folium.Popup(popup_text, max_width=300),\n",
    "        icon=folium.Icon(color=\"red\", icon=\"exclamation-triangle\"),\n",
    "    ).add_to(m)\n",
    "\n",
    "# Save the map\n",
    "m.save(\"anomalous_petrol_pumps_map.html\")\n",
    "print(f\"Map saved as anomalous_petrol_pumps_map.html with {len(anomaly_pumps)} anomalies.\")\n"
   ]
  },
  {
   "cell_type": "markdown",
   "metadata": {},
   "source": [
    "## Anomalies with XAI"
   ]
  },
  {
   "cell_type": "code",
   "execution_count": 97,
   "metadata": {},
   "outputs": [
    {
     "name": "stderr",
     "output_type": "stream",
     "text": [
      "100%|===================| 465516/465552 [159:40<00:00]        "
     ]
    },
    {
     "name": "stdout",
     "output_type": "stream",
     "text": [
      "Map saved as anomalous_petrol_pumps_map.html with 7 anomalies.\n"
     ]
    }
   ],
   "source": [
    "import pandas as pd\n",
    "import geopandas as gpd\n",
    "import folium\n",
    "import numpy as np\n",
    "import shap\n",
    "from sklearn.ensemble import IsolationForest\n",
    "from sklearn.preprocessing import StandardScaler\n",
    "\n",
    "# Ensure 'geometry' is a valid GeoSeries\n",
    "if not isinstance(merged_data[\"geometry\"], gpd.GeoSeries):\n",
    "    merged_data[\"geometry\"] = gpd.GeoSeries(merged_data[\"geometry\"])\n",
    "\n",
    "# Select numerical columns\n",
    "numerical_cols = merged_data.select_dtypes(include=\"number\")\n",
    "feature_names = numerical_cols.columns\n",
    "\n",
    "# Scale the numerical data for better anomaly detection\n",
    "scaler = StandardScaler()\n",
    "scaled_features = scaler.fit_transform(numerical_cols)\n",
    "\n",
    "# Train Isolation Forest with refined parameters\n",
    "iso_forest = IsolationForest(n_estimators=300, contamination=0.001, random_state=42)\n",
    "merged_data[\"anomaly_score\"] = iso_forest.fit_predict(scaled_features)\n",
    "\n",
    "# Compute anomaly scores for all rows\n",
    "merged_data[\"anomaly_value\"] = iso_forest.decision_function(scaled_features)  # Lower = stronger anomaly\n",
    "\n",
    "# Extract anomalies\n",
    "anomalies = merged_data[merged_data[\"anomaly_score\"] == -1]\n",
    "\n",
    "# If too many anomalies, keep the 25 most extreme ones\n",
    "if len(anomalies) > 25:\n",
    "    anomalies = anomalies.nsmallest(25, \"anomaly_value\")  # Select most extreme anomalies\n",
    "\n",
    "# Group anomalies by placeid and keep only one entry per petrol pump\n",
    "anomaly_pumps = anomalies.groupby(\"placeid\").first().reset_index()\n",
    "\n",
    "# ------------------- XAI: SHAP Explanations -------------------\n",
    "\n",
    "# Use SHAP KernelExplainer for Isolation Forest\n",
    "explainer = shap.Explainer(iso_forest, scaled_features)\n",
    "\n",
    "# Compute SHAP values for anomalies\n",
    "shap_values = explainer(scaled_features)\n",
    "\n",
    "# Store SHAP explanations\n",
    "shap_explanations = {}\n",
    "for idx, row in anomaly_pumps.iterrows():\n",
    "    pump_index = merged_data.index.get_loc(row.name)  # Get index in original DataFrame\n",
    "    shap_vals = shap_values[pump_index].values  # SHAP values for this anomaly\n",
    "    \n",
    "    # Sort by absolute importance\n",
    "    feature_importance = sorted(\n",
    "        zip(feature_names, shap_vals),\n",
    "        key=lambda x: abs(x[1]), reverse=True\n",
    "    )[:5]  # Keep top 5 important features\n",
    "    \n",
    "    explanation_text = \"<b>Top Contributing Factors:</b><br>\" + \"<br>\".join(\n",
    "        [f\"{feat}: {val:.3f}\" for feat, val in feature_importance]\n",
    "    )\n",
    "    \n",
    "    shap_explanations[row[\"placeid\"]] = explanation_text\n",
    "\n",
    "# ------------------- Visualization -------------------\n",
    "# Center map at the mean of petrol pump locations\n",
    "m = folium.Map(\n",
    "    location=[merged_data[\"displaylat\"].mean(), merged_data[\"displaylon\"].mean()], zoom_start=12\n",
    ")\n",
    "\n",
    "# Plot unique petrol pumps detected as anomalies\n",
    "for _, row in anomaly_pumps.iterrows():\n",
    "    lat, lon = row.geometry.y, row.geometry.x  # Extract petrol pump location\n",
    "    place_id = row[\"placeid\"]\n",
    "    \n",
    "    # Get SHAP explanation\n",
    "    shap_html = shap_explanations.get(place_id, \"No explanation available.\")\n",
    "    \n",
    "    popup_text = f\"\"\"\n",
    "    <b>Anomalous Petrol Pump</b><br>\n",
    "    <b>PlaceID:</b> {place_id}<br>\n",
    "    <b>Coordinates:</b> ({lat}, {lon})<br>\n",
    "    {shap_html}\n",
    "    \"\"\"\n",
    "    \n",
    "    folium.Marker(\n",
    "        location=[lat, lon],\n",
    "        popup=folium.Popup(popup_text, max_width=500),\n",
    "        icon=folium.Icon(color=\"red\", icon=\"exclamation-triangle\"),\n",
    "    ).add_to(m)\n",
    "\n",
    "# Save the map\n",
    "m.save(\"anomalous_petrol_pumps_map_xai.html\")\n",
    "print(f\"Map saved as anomalous_petrol_pumps_map.html with {len(anomaly_pumps)} anomalies.\")\n"
   ]
  },
  {
   "cell_type": "code",
   "execution_count": null,
   "metadata": {},
   "outputs": [],
   "source": [
    "from sklearn.metrics import silhouette_score\n",
    "\n",
    "silhouette = silhouette_score(scaled_features, iso_forest.predict(scaled_features))\n",
    "print(f\"Silhouette Score: {silhouette:.4f}\")\n"
   ]
  },
  {
   "cell_type": "code",
   "execution_count": null,
   "metadata": {},
   "outputs": [],
   "source": [
    "import shap\n",
    "\n",
    "explainer = shap.TreeExplainer(iso_forest)\n",
    "shap_values = explainer.shap_values(scaled_features)\n",
    "\n",
    "shap.summary_plot(shap_values, numerical_cols)\n"
   ]
  },
  {
   "cell_type": "code",
   "execution_count": null,
   "metadata": {},
   "outputs": [],
   "source": []
  },
  {
   "cell_type": "code",
   "execution_count": null,
   "metadata": {},
   "outputs": [],
   "source": []
  }
 ],
 "metadata": {
  "kernelspec": {
   "display_name": "base",
   "language": "python",
   "name": "python3"
  },
  "language_info": {
   "codemirror_mode": {
    "name": "ipython",
    "version": 3
   },
   "file_extension": ".py",
   "mimetype": "text/x-python",
   "name": "python",
   "nbconvert_exporter": "python",
   "pygments_lexer": "ipython3",
   "version": "3.12.3"
  }
 },
 "nbformat": 4,
 "nbformat_minor": 2
}
