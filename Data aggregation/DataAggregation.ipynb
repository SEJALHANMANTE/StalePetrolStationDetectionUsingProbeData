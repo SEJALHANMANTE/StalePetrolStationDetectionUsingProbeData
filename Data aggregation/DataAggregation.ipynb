{
 "cells": [
  {
   "cell_type": "code",
   "execution_count": 2,
   "metadata": {},
   "outputs": [],
   "source": [
    "import geopandas as gpd\n",
    "import pandas as pd\n",
    "import matplotlib.pyplot as plt\n",
    "from shapely.geometry import Point\n",
    "import folium"
   ]
  },
  {
   "cell_type": "markdown",
   "metadata": {},
   "source": [
    "## Read files into geopandas Dataframe"
   ]
  },
  {
   "cell_type": "code",
   "execution_count": 2,
   "metadata": {},
   "outputs": [
    {
     "name": "stderr",
     "output_type": "stream",
     "text": [
      "<>:17: SyntaxWarning: invalid escape sequence '\\R'\n",
      "<>:17: SyntaxWarning: invalid escape sequence '\\R'\n",
      "C:\\Users\\uzmap\\AppData\\Local\\Temp\\ipykernel_17340\\1852230210.py:17: SyntaxWarning: invalid escape sequence '\\R'\n",
      "  print(\"\\Raod Data:\")\n"
     ]
    },
    {
     "name": "stdout",
     "output_type": "stream",
     "text": [
      "Petrol Station Data:\n",
      "  placeid           name  displaylat  displaylon                    geometry\n",
      "0       1      Pertamina   -6.145160  106.894510  POINT (106.89451 -6.14516)\n",
      "1       2          Shell   -6.126501  106.787652  POINT (106.78765 -6.12650)\n",
      "2       3      Pertamina   -6.202623  106.806137  POINT (106.80614 -6.20262)\n",
      "3       4      Pertamina   -6.311140  106.771830  POINT (106.77183 -6.31114)\n",
      "4       5  Mandiri Motor   -6.197810  106.769170  POINT (106.76917 -6.19781)\n",
      "\n",
      "Probe Data:\n",
      "   WEIGHT  DIS2NT                    geometry\n",
      "0       1      31  POINT (106.85278 -6.34337)\n",
      "1       1     172  POINT (106.85275 -6.34469)\n",
      "2       4     166  POINT (106.85276 -6.34483)\n",
      "3       2     750  POINT (106.97833 -6.18029)\n",
      "4       1    9999  POINT (106.86943 -6.37057)\n",
      "\\Raod Data:\n",
      "    osm_id  code     fclass                          name   ref oneway  \\\n",
      "0  4705040  5113    primary             Jalan Pasar Senen  None      F   \n",
      "1  4705043  5115   tertiary       Jalan Gunung Sahari III  None      F   \n",
      "2  4705045  5114  secondary                Jalan Kesenian  None      F   \n",
      "3  4705046  5115   tertiary              Jalan Budi Utomo  None      F   \n",
      "4  8151584  5114  secondary  Jalan Lapangan Banteng Utara  None      F   \n",
      "\n",
      "   maxspeed  layer bridge tunnel  \\\n",
      "0         0      0      F      F   \n",
      "1         0      0      F      F   \n",
      "2         0      0      F      F   \n",
      "3         0      0      F      F   \n",
      "4         0      0      F      F   \n",
      "\n",
      "                                            geometry  \n",
      "0  LINESTRING (106.84182 -6.17814, 106.84183 -6.1...  \n",
      "1  LINESTRING (106.84233 -6.16781, 106.84172 -6.1...  \n",
      "2  LINESTRING (106.83521 -6.16675, 106.83529 -6.1...  \n",
      "3  LINESTRING (106.83822 -6.16692, 106.83803 -6.1...  \n",
      "4  LINESTRING (106.83576 -6.16830, 106.83574 -6.1...  \n"
     ]
    }
   ],
   "source": [
    "# Load petrol station data\n",
    "stations = gpd.read_file(r\"D:/GeospatialHackathon/Petrol Station Probe Data/Dataset/Data_for_hackathon/Stale_Petrol_station/Petrol_Station/Petrol_Station/petrol_station_jakarta.shp\")\n",
    "print(\"Petrol Station Data:\")\n",
    "print(stations.head())\n",
    "# Save petrol station data to CSV\n",
    "stations.to_csv(\"petrol_stations.csv\", index=False)\n",
    "\n",
    "# Load probe data\n",
    "probe_data = gpd.read_file(r\"D:/GeospatialHackathon/Petrol Station Probe Data/Dataset/Data_for_hackathon/Stale_Petrol_station/IDN_Q223_May23_Jakarta/Probe.shp\")\n",
    "print(\"\\nProbe Data:\")\n",
    "print(probe_data.head())\n",
    "# Save probe data to CSV\n",
    "probe_data.to_csv(\"probe_data.csv\", index=False)\n",
    "\n",
    "# Load probe data\n",
    "road_data = gpd.read_file(r\"D:/GeospatialHackathon/Petrol Station Probe Data/Dataset/Data_for_hackathon/Stale_Petrol_station/Petrol_Station/Petrol_Station/road.shp\")\n",
    "print(\"\\Raod Data:\")\n",
    "print(road_data.head())\n",
    "# Save road data to CSV\n",
    "road_data.to_csv(\"road_data.csv\", index=False)"
   ]
  },
  {
   "cell_type": "markdown",
   "metadata": {},
   "source": [
    "## Check for Co-ordinate systems similarity"
   ]
  },
  {
   "cell_type": "code",
   "execution_count": 3,
   "metadata": {},
   "outputs": [
    {
     "name": "stdout",
     "output_type": "stream",
     "text": [
      "Stations CRS: GEOGCS[\"GCS_WGS84_geographiques_dms\",DATUM[\"WGS_1984\",SPHEROID[\"WGS 84\",6378137,298.257223563,AUTHORITY[\"EPSG\",\"7030\"]],AUTHORITY[\"EPSG\",\"6326\"]],PRIMEM[\"Greenwich\",0],UNIT[\"Degree\",0.0174532925199433],AXIS[\"Longitude\",EAST],AXIS[\"Latitude\",NORTH]]\n",
      "Probe Data CRS: EPSG:4326\n",
      "Probe Data CRS: EPSG:4326\n"
     ]
    }
   ],
   "source": [
    "print(\"Stations CRS:\", stations.crs)\n",
    "print(\"Probe Data CRS:\", probe_data.crs)\n",
    "print(\"Probe Data CRS:\", road_data.crs)"
   ]
  },
  {
   "cell_type": "code",
   "execution_count": 4,
   "metadata": {},
   "outputs": [
    {
     "name": "stdout",
     "output_type": "stream",
     "text": [
      "Updated Stations CRS: EPSG:4326\n",
      "Probe Data CRS: EPSG:4326\n"
     ]
    }
   ],
   "source": [
    "stations = stations.to_crs(epsg=4326)\n",
    "print(\"Updated Stations CRS:\", stations.crs)\n",
    "print(\"Probe Data CRS:\", probe_data.crs)"
   ]
  },
  {
   "cell_type": "markdown",
   "metadata": {},
   "source": [
    "## Basic Plot of Probes & PetrolStations"
   ]
  },
  {
   "cell_type": "code",
   "execution_count": 5,
   "metadata": {},
   "outputs": [
    {
     "name": "stderr",
     "output_type": "stream",
     "text": [
      "C:\\Users\\uzmap\\AppData\\Roaming\\Python\\Python312\\site-packages\\IPython\\core\\pylabtools.py:170: UserWarning: Creating legend with loc=\"best\" can be slow with large amounts of data.\n",
      "  fig.canvas.print_figure(bytes_io, **kw)\n"
     ]
    },
    {
     "data": {
      "image/png": "[encoded data removed]",
      "text/plain": [
       "<Figure size 1000x600 with 1 Axes>"
      ]
     },
     "metadata": {},
     "output_type": "display_data"
    }
   ],
   "source": [
    "import matplotlib.pyplot as plt\n",
    "\n",
    "fig, ax = plt.subplots(figsize=(10, 6))\n",
    "\n",
    "# Plot probe data (blue)\n",
    "probe_data.plot(ax=ax, color='blue', markersize=1, alpha=0.5, label=\"Probes\")\n",
    "\n",
    "# Plot petrol stations (red)\n",
    "stations.plot(ax=ax, color='red', markersize=30, marker=\"x\", label=\"Petrol Stations\")\n",
    "\n",
    "plt.legend()\n",
    "plt.title(\"Probe Data & Petrol Stations\")\n",
    "plt.show()"
   ]
  },
  {
   "cell_type": "markdown",
   "metadata": {},
   "source": [
    "## Merge petrol_stations data with Probes data based on nearest geometry"
   ]
  },
  {
   "cell_type": "code",
   "execution_count": 6,
   "metadata": {},
   "outputs": [
    {
     "name": "stdout",
     "output_type": "stream",
     "text": [
      "Initial Petrol Stations Count: 688\n",
      "Initial Probes Count: 463043\n"
     ]
    },
    {
     "name": "stderr",
     "output_type": "stream",
     "text": [
      "c:\\Users\\uzmap\\anaconda3\\envs\\pythonPractice\\Lib\\site-packages\\geopandas\\array.py:365: UserWarning: Geometry is in a geographic CRS. Results from 'sjoin_nearest' are likely incorrect. Use 'GeoSeries.to_crs()' to re-project geometries to a projected CRS before this operation.\n",
      "\n",
      "  warnings.warn(\n"
     ]
    },
    {
     "name": "stdout",
     "output_type": "stream",
     "text": [
      "Final Combined Dataset Count: 464840\n",
      "   WEIGHT  DIS2NT                    geometry  index_right placeid  \\\n",
      "0       1      31  POINT (106.85278 -6.34337)           70      71   \n",
      "1       1     172  POINT (106.85275 -6.34469)           70      71   \n",
      "2       4     166  POINT (106.85276 -6.34483)           70      71   \n",
      "3       2     750  POINT (106.97833 -6.18029)          235     236   \n",
      "4       1    9999  POINT (106.86943 -6.37057)          395     396   \n",
      "\n",
      "                name  displaylat  displaylon  distance_to_station  \n",
      "0  Warung Bang Jamin   -6.344676  106.848766             0.004223  \n",
      "1  Warung Bang Jamin   -6.344676  106.848766             0.003987  \n",
      "2  Warung Bang Jamin   -6.344676  106.848766             0.003995  \n",
      "3               Dodo   -6.182198  106.982084             0.004216  \n",
      "4          Pertamina   -6.373070  106.872050             0.003617  \n"
     ]
    }
   ],
   "source": [
    "# Print initial row counts\n",
    "print(f\"Initial Petrol Stations Count: {len(stations)}\")\n",
    "print(f\"Initial Probes Count: {len(probe_data)}\")\n",
    "\n",
    "# Perform spatial join to find the nearest petrol station for each probe\n",
    "probes_with_stations = gpd.sjoin_nearest(probe_data, stations, how=\"left\", distance_col=\"distance_to_station\")\n",
    "\n",
    "# Print final row count\n",
    "print(f\"Final Combined Dataset Count: {len(probes_with_stations)}\")  # Should match probes count\n",
    "\n",
    "# Save the result\n",
    "probes_with_stations.to_csv(\"probes_with_nearest_stations.csv\", index=False)\n",
    "\n",
    "# Display first few rows\n",
    "print(probes_with_stations.head())"
   ]
  },
  {
   "cell_type": "code",
   "execution_count": 7,
   "metadata": {},
   "outputs": [
    {
     "name": "stdout",
     "output_type": "stream",
     "text": [
      "Duplicated probes count: 3594\n"
     ]
    }
   ],
   "source": [
    "duplicate_probes = probes_with_stations['geometry'].duplicated(keep=False)\n",
    "print(f\"Duplicated probes count: {duplicate_probes.sum()}\")"
   ]
  },
  {
   "cell_type": "code",
   "execution_count": 23,
   "metadata": {},
   "outputs": [
    {
     "data": {
      "text/html": [
       "<div>\n",
       "<style scoped>\n",
       "    .dataframe tbody tr th:only-of-type {\n",
       "        vertical-align: middle;\n",
       "    }\n",
       "\n",
       "    .dataframe tbody tr th {\n",
       "        vertical-align: top;\n",
       "    }\n",
       "\n",
       "    .dataframe thead th {\n",
       "        text-align: right;\n",
       "    }\n",
       "</style>\n",
       "<table border=\"1\" class=\"dataframe\">\n",
       "  <thead>\n",
       "    <tr style=\"text-align: right;\">\n",
       "      <th></th>\n",
       "      <th>placeid</th>\n",
       "      <th>name</th>\n",
       "      <th>displaylat</th>\n",
       "      <th>displaylon</th>\n",
       "      <th>geometry</th>\n",
       "    </tr>\n",
       "  </thead>\n",
       "  <tbody>\n",
       "    <tr>\n",
       "      <th>0</th>\n",
       "      <td>1</td>\n",
       "      <td>Pertamina</td>\n",
       "      <td>-6.145160</td>\n",
       "      <td>106.894510</td>\n",
       "      <td>POINT (106.89451 -6.14516)</td>\n",
       "    </tr>\n",
       "    <tr>\n",
       "      <th>1</th>\n",
       "      <td>2</td>\n",
       "      <td>Shell</td>\n",
       "      <td>-6.126501</td>\n",
       "      <td>106.787652</td>\n",
       "      <td>POINT (106.78765 -6.12650)</td>\n",
       "    </tr>\n",
       "    <tr>\n",
       "      <th>2</th>\n",
       "      <td>3</td>\n",
       "      <td>Pertamina</td>\n",
       "      <td>-6.202623</td>\n",
       "      <td>106.806137</td>\n",
       "      <td>POINT (106.80614 -6.20262)</td>\n",
       "    </tr>\n",
       "    <tr>\n",
       "      <th>3</th>\n",
       "      <td>4</td>\n",
       "      <td>Pertamina</td>\n",
       "      <td>-6.311140</td>\n",
       "      <td>106.771830</td>\n",
       "      <td>POINT (106.77183 -6.31114)</td>\n",
       "    </tr>\n",
       "    <tr>\n",
       "      <th>4</th>\n",
       "      <td>5</td>\n",
       "      <td>Mandiri Motor</td>\n",
       "      <td>-6.197810</td>\n",
       "      <td>106.769170</td>\n",
       "      <td>POINT (106.76917 -6.19781)</td>\n",
       "    </tr>\n",
       "  </tbody>\n",
       "</table>\n",
       "</div>"
      ],
      "text/plain": [
       "  placeid           name  displaylat  displaylon                    geometry\n",
       "0       1      Pertamina   -6.145160  106.894510  POINT (106.89451 -6.14516)\n",
       "1       2          Shell   -6.126501  106.787652  POINT (106.78765 -6.12650)\n",
       "2       3      Pertamina   -6.202623  106.806137  POINT (106.80614 -6.20262)\n",
       "3       4      Pertamina   -6.311140  106.771830  POINT (106.77183 -6.31114)\n",
       "4       5  Mandiri Motor   -6.197810  106.769170  POINT (106.76917 -6.19781)"
      ]
     },
     "execution_count": 23,
     "metadata": {},
     "output_type": "execute_result"
    }
   ],
   "source": [
    "stations.head()"
   ]
  },
  {
   "cell_type": "code",
   "execution_count": 25,
   "metadata": {},
   "outputs": [
    {
     "data": {
      "text/html": [
       "<div>\n",
       "<style scoped>\n",
       "    .dataframe tbody tr th:only-of-type {\n",
       "        vertical-align: middle;\n",
       "    }\n",
       "\n",
       "    .dataframe tbody tr th {\n",
       "        vertical-align: top;\n",
       "    }\n",
       "\n",
       "    .dataframe thead th {\n",
       "        text-align: right;\n",
       "    }\n",
       "</style>\n",
       "<table border=\"1\" class=\"dataframe\">\n",
       "  <thead>\n",
       "    <tr style=\"text-align: right;\">\n",
       "      <th></th>\n",
       "      <th>WEIGHT</th>\n",
       "      <th>DIS2NT</th>\n",
       "      <th>geometry</th>\n",
       "      <th>placeid</th>\n",
       "      <th>name</th>\n",
       "      <th>displaylat</th>\n",
       "      <th>displaylon</th>\n",
       "      <th>distance_to_station</th>\n",
       "    </tr>\n",
       "  </thead>\n",
       "  <tbody>\n",
       "    <tr>\n",
       "      <th>0</th>\n",
       "      <td>1</td>\n",
       "      <td>31</td>\n",
       "      <td>POINT (106.85278 -6.34337)</td>\n",
       "      <td>71</td>\n",
       "      <td>Warung Bang Jamin</td>\n",
       "      <td>-6.344676</td>\n",
       "      <td>106.848766</td>\n",
       "      <td>0.004223</td>\n",
       "    </tr>\n",
       "    <tr>\n",
       "      <th>1</th>\n",
       "      <td>1</td>\n",
       "      <td>172</td>\n",
       "      <td>POINT (106.85275 -6.34469)</td>\n",
       "      <td>71</td>\n",
       "      <td>Warung Bang Jamin</td>\n",
       "      <td>-6.344676</td>\n",
       "      <td>106.848766</td>\n",
       "      <td>0.003987</td>\n",
       "    </tr>\n",
       "    <tr>\n",
       "      <th>2</th>\n",
       "      <td>4</td>\n",
       "      <td>166</td>\n",
       "      <td>POINT (106.85276 -6.34483)</td>\n",
       "      <td>71</td>\n",
       "      <td>Warung Bang Jamin</td>\n",
       "      <td>-6.344676</td>\n",
       "      <td>106.848766</td>\n",
       "      <td>0.003995</td>\n",
       "    </tr>\n",
       "    <tr>\n",
       "      <th>3</th>\n",
       "      <td>2</td>\n",
       "      <td>750</td>\n",
       "      <td>POINT (106.97833 -6.18029)</td>\n",
       "      <td>236</td>\n",
       "      <td>Dodo</td>\n",
       "      <td>-6.182198</td>\n",
       "      <td>106.982084</td>\n",
       "      <td>0.004216</td>\n",
       "    </tr>\n",
       "    <tr>\n",
       "      <th>4</th>\n",
       "      <td>1</td>\n",
       "      <td>9999</td>\n",
       "      <td>POINT (106.86943 -6.37057)</td>\n",
       "      <td>396</td>\n",
       "      <td>Pertamina</td>\n",
       "      <td>-6.373070</td>\n",
       "      <td>106.872050</td>\n",
       "      <td>0.003617</td>\n",
       "    </tr>\n",
       "  </tbody>\n",
       "</table>\n",
       "</div>"
      ],
      "text/plain": [
       "   WEIGHT  DIS2NT                    geometry placeid               name  \\\n",
       "0       1      31  POINT (106.85278 -6.34337)      71  Warung Bang Jamin   \n",
       "1       1     172  POINT (106.85275 -6.34469)      71  Warung Bang Jamin   \n",
       "2       4     166  POINT (106.85276 -6.34483)      71  Warung Bang Jamin   \n",
       "3       2     750  POINT (106.97833 -6.18029)     236               Dodo   \n",
       "4       1    9999  POINT (106.86943 -6.37057)     396          Pertamina   \n",
       "\n",
       "   displaylat  displaylon  distance_to_station  \n",
       "0   -6.344676  106.848766             0.004223  \n",
       "1   -6.344676  106.848766             0.003987  \n",
       "2   -6.344676  106.848766             0.003995  \n",
       "3   -6.182198  106.982084             0.004216  \n",
       "4   -6.373070  106.872050             0.003617  "
      ]
     },
     "execution_count": 25,
     "metadata": {},
     "output_type": "execute_result"
    }
   ],
   "source": [
    "probes_with_stations.head()"
   ]
  },
  {
   "cell_type": "code",
   "execution_count": 26,
   "metadata": {},
   "outputs": [],
   "source": [
    "probes_with_stations = probes_with_stations.to_crs(epsg=4326)\n",
    "road_data = road_data.to_crs(epsg=4326)"
   ]
  },
  {
   "cell_type": "markdown",
   "metadata": {},
   "source": [
    "## Merge petrol_stations & Probes merged data with Roads Data based on nearest geometry"
   ]
  },
  {
   "cell_type": "code",
   "execution_count": null,
   "metadata": {},
   "outputs": [
    {
     "name": "stderr",
     "output_type": "stream",
     "text": [
      "c:\\Users\\uzmap\\anaconda3\\envs\\pythonPractice\\Lib\\site-packages\\geopandas\\array.py:365: UserWarning: Geometry is in a geographic CRS. Results from 'sjoin_nearest' are likely incorrect. Use 'GeoSeries.to_crs()' to re-project geometries to a projected CRS before this operation.\n",
      "\n",
      "  warnings.warn(\n"
     ]
    },
    {
     "name": "stdout",
     "output_type": "stream",
     "text": [
      "   WEIGHT  DIS2NT                    geometry placeid          name_left  \\\n",
      "0       1      31  POINT (106.85278 -6.34337)      71  Warung Bang Jamin   \n",
      "1       1     172  POINT (106.85275 -6.34469)      71  Warung Bang Jamin   \n",
      "2       4     166  POINT (106.85276 -6.34483)      71  Warung Bang Jamin   \n",
      "3       2     750  POINT (106.97833 -6.18029)     236               Dodo   \n",
      "4       1    9999  POINT (106.86943 -6.37057)     396          Pertamina   \n",
      "\n",
      "   displaylat  displaylon  distance_to_station  index_right     osm_id  code  \\\n",
      "0   -6.344676  106.848766             0.004223        99831  563177706  5122   \n",
      "1   -6.344676  106.848766             0.003987        99787  563177637  5123   \n",
      "2   -6.344676  106.848766             0.003995        99786  563177635  5123   \n",
      "3   -6.182198  106.982084             0.004216        31895  328292661  5122   \n",
      "4   -6.373070  106.872050             0.003617       100405  563529764  5122   \n",
      "\n",
      "          fclass name_right   ref oneway  maxspeed  layer bridge tunnel  \\\n",
      "0    residential       None  None      B         0      0      F      F   \n",
      "1  living_street       None  None      B         0      0      F      F   \n",
      "2  living_street       None  None      B         0      0      F      F   \n",
      "3    residential       None  None      B         0      0      F      F   \n",
      "4    residential       None  None      B         0      0      F      F   \n",
      "\n",
      "   distance_to_road  \n",
      "0          0.000025  \n",
      "1          0.000054  \n",
      "2          0.000081  \n",
      "3          0.000027  \n",
      "4          0.000004  \n"
     ]
    }
   ],
   "source": [
    "probes_with_stations_roads = gpd.sjoin_nearest(\n",
    "    probes_with_stations, road_data, how=\"left\", distance_col=\"distance_to_road\"\n",
    ")\n",
    "\n",
    "# Save the final dataset\n",
    "probes_with_stations_roads.to_csv(\"probes_with_stations_and_roads.csv\", index=False)\n",
    "\n",
    "# Display first few rows to verify the join\n",
    "print(probes_with_stations_roads.head())"
   ]
  },
  {
   "cell_type": "code",
   "execution_count": 28,
   "metadata": {},
   "outputs": [
    {
     "data": {
      "text/plain": [
       "Index(['WEIGHT', 'DIS2NT', 'geometry', 'placeid', 'name_left', 'displaylat',\n",
       "       'displaylon', 'distance_to_station', 'index_right', 'osm_id', 'code',\n",
       "       'fclass', 'name_right', 'ref', 'oneway', 'maxspeed', 'layer', 'bridge',\n",
       "       'tunnel', 'distance_to_road'],\n",
       "      dtype='object')"
      ]
     },
     "execution_count": 28,
     "metadata": {},
     "output_type": "execute_result"
    }
   ],
   "source": [
    "probes_with_stations_roads.columns"
   ]
  },
  {
   "cell_type": "code",
   "execution_count": 29,
   "metadata": {},
   "outputs": [
    {
     "data": {
      "text/plain": [
       "WEIGHT                      0\n",
       "DIS2NT                      0\n",
       "geometry                    0\n",
       "placeid                     0\n",
       "name_left                   0\n",
       "displaylat                  0\n",
       "displaylon                  0\n",
       "distance_to_station         0\n",
       "index_right                 0\n",
       "osm_id                      0\n",
       "code                        0\n",
       "fclass                      0\n",
       "name_right             173820\n",
       "ref                    451536\n",
       "oneway                      0\n",
       "maxspeed                    0\n",
       "layer                       0\n",
       "bridge                      0\n",
       "tunnel                      0\n",
       "distance_to_road            0\n",
       "dtype: int64"
      ]
     },
     "execution_count": 29,
     "metadata": {},
     "output_type": "execute_result"
    }
   ],
   "source": [
    "column_nan_count = probes_with_stations_roads.isnull().sum()\n",
    "column_nan_count"
   ]
  },
  {
   "cell_type": "code",
   "execution_count": null,
   "metadata": {},
   "outputs": [
    {
     "data": {
      "text/html": [
       "<div>\n",
       "<style scoped>\n",
       "    .dataframe tbody tr th:only-of-type {\n",
       "        vertical-align: middle;\n",
       "    }\n",
       "\n",
       "    .dataframe tbody tr th {\n",
       "        vertical-align: top;\n",
       "    }\n",
       "\n",
       "    .dataframe thead th {\n",
       "        text-align: right;\n",
       "    }\n",
       "</style>\n",
       "<table border=\"1\" class=\"dataframe\">\n",
       "  <thead>\n",
       "    <tr style=\"text-align: right;\">\n",
       "      <th></th>\n",
       "      <th>WEIGHT</th>\n",
       "      <th>DIS2NT</th>\n",
       "      <th>placeid</th>\n",
       "      <th>displaylat</th>\n",
       "      <th>displaylon</th>\n",
       "      <th>distance_to_station</th>\n",
       "      <th>fclass</th>\n",
       "      <th>tunnel</th>\n",
       "      <th>distance_to_road</th>\n",
       "    </tr>\n",
       "  </thead>\n",
       "  <tbody>\n",
       "    <tr>\n",
       "      <th>0</th>\n",
       "      <td>1</td>\n",
       "      <td>31</td>\n",
       "      <td>71</td>\n",
       "      <td>-6.344676</td>\n",
       "      <td>106.848766</td>\n",
       "      <td>0.004223</td>\n",
       "      <td>residential</td>\n",
       "      <td>F</td>\n",
       "      <td>0.000025</td>\n",
       "    </tr>\n",
       "    <tr>\n",
       "      <th>1</th>\n",
       "      <td>1</td>\n",
       "      <td>172</td>\n",
       "      <td>71</td>\n",
       "      <td>-6.344676</td>\n",
       "      <td>106.848766</td>\n",
       "      <td>0.003987</td>\n",
       "      <td>living_street</td>\n",
       "      <td>F</td>\n",
       "      <td>0.000054</td>\n",
       "    </tr>\n",
       "    <tr>\n",
       "      <th>2</th>\n",
       "      <td>4</td>\n",
       "      <td>166</td>\n",
       "      <td>71</td>\n",
       "      <td>-6.344676</td>\n",
       "      <td>106.848766</td>\n",
       "      <td>0.003995</td>\n",
       "      <td>living_street</td>\n",
       "      <td>F</td>\n",
       "      <td>0.000081</td>\n",
       "    </tr>\n",
       "    <tr>\n",
       "      <th>3</th>\n",
       "      <td>2</td>\n",
       "      <td>750</td>\n",
       "      <td>236</td>\n",
       "      <td>-6.182198</td>\n",
       "      <td>106.982084</td>\n",
       "      <td>0.004216</td>\n",
       "      <td>residential</td>\n",
       "      <td>F</td>\n",
       "      <td>0.000027</td>\n",
       "    </tr>\n",
       "    <tr>\n",
       "      <th>4</th>\n",
       "      <td>1</td>\n",
       "      <td>9999</td>\n",
       "      <td>396</td>\n",
       "      <td>-6.373070</td>\n",
       "      <td>106.872050</td>\n",
       "      <td>0.003617</td>\n",
       "      <td>residential</td>\n",
       "      <td>F</td>\n",
       "      <td>0.000004</td>\n",
       "    </tr>\n",
       "  </tbody>\n",
       "</table>\n",
       "</div>"
      ],
      "text/plain": [
       "   WEIGHT  DIS2NT  placeid  displaylat  displaylon  distance_to_station  \\\n",
       "0       1      31       71   -6.344676  106.848766             0.004223   \n",
       "1       1     172       71   -6.344676  106.848766             0.003987   \n",
       "2       4     166       71   -6.344676  106.848766             0.003995   \n",
       "3       2     750      236   -6.182198  106.982084             0.004216   \n",
       "4       1    9999      396   -6.373070  106.872050             0.003617   \n",
       "\n",
       "          fclass tunnel  distance_to_road  \n",
       "0    residential      F          0.000025  \n",
       "1  living_street      F          0.000054  \n",
       "2  living_street      F          0.000081  \n",
       "3    residential      F          0.000027  \n",
       "4    residential      F          0.000004  "
      ]
     },
     "execution_count": 3,
     "metadata": {},
     "output_type": "execute_result"
    }
   ],
   "source": [
    "from sklearn.preprocessing import StandardScaler\n",
    "from sklearn.cluster import KMeans\n",
    "import seaborn as sns\n",
    "\n",
    "# Load the dataset\n",
    "df = pd.read_csv(r\"C:\\Users\\uzmap\\Documents\\GitHub\\GeospatialHackathon\\Petrol Station Probe Data\\probes_with_stations_and_roads.csv\")\n",
    "\n",
    "# Rename columns for clarity\n",
    "df = df.rename(columns={\n",
    "    \"name_left\": \"petrol_station_name\",\n",
    "    \"name_right\": \"road_name\"\n",
    "})\n",
    "\n",
    "# Drop non-relevant columns\n",
    "df = df.drop(['index_right','code','road_name','oneway', 'maxspeed','ref','geometry', 'osm_id', 'layer', 'bridge',\"petrol_station_name\"], axis=1)\n",
    "\n",
    "df.head()"
   ]
  }
 ],
 "metadata": {
  "kernelspec": {
   "display_name": "pythonPractice",
   "language": "python",
   "name": "python3"
  },
  "language_info": {
   "codemirror_mode": {
    "name": "ipython",
    "version": 3
   },
   "file_extension": ".py",
   "mimetype": "text/x-python",
   "name": "python",
   "nbconvert_exporter": "python",
   "pygments_lexer": "ipython3",
   "version": "3.12.4"
  }
 },
 "nbformat": 4,
 "nbformat_minor": 2
}
